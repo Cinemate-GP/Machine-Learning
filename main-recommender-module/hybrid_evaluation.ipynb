{
 "cells": [
  {
   "cell_type": "markdown",
   "id": "7e3f722e",
   "metadata": {},
   "source": [
    "# Default Imports"
   ]
  },
  {
   "cell_type": "code",
   "execution_count": 1,
   "id": "8e2a26d0",
   "metadata": {},
   "outputs": [],
   "source": [
    "import numpy as np\n",
    "import pandas as pd\n",
    "from surprise import Dataset, Reader\n",
    "from surprise.model_selection import train_test_split\n",
    "from joblib import load\n",
    "import random\n",
    "from sklearn.metrics.pairwise import cosine_similarity"
   ]
  },
  {
   "cell_type": "markdown",
   "id": "30b53c78",
   "metadata": {},
   "source": [
    "# Function 1 Testing"
   ]
  },
  {
   "cell_type": "code",
   "execution_count": null,
   "id": "e9e3ab5c",
   "metadata": {},
   "outputs": [],
   "source": [
    "from hybrid_recommender_rework import get_top_n_hybrid_recommendations"
   ]
  },
  {
   "cell_type": "code",
   "execution_count": null,
   "id": "2d69c3b9",
   "metadata": {},
   "outputs": [],
   "source": [
    "\"\"\"\n",
    "Evaluate Precision@N for the hybrid recommendation pipeline.\n",
    "Args:\n",
    "    cf_model: Trained Surprise SVD model.\n",
    "    ratings_df: DataFrame with UserID, MovieID, Rating columns.\n",
    "    genres_dict: Dict mapping MovieID to genre vector.\n",
    "    n: Number of recommendations to evaluate.\n",
    "    test_size: Fraction of data for test set.\n",
    "    threshold: Rating threshold for relevance (e.g., 4.0).\n",
    "Returns:\n",
    "    float: Mean Precision@N across test users.\n",
    "\"\"\""
   ]
  },
  {
   "cell_type": "code",
   "execution_count": null,
   "id": "29bc6b03",
   "metadata": {},
   "outputs": [],
   "source": [
    "genres_dict = load(r'genres_dict_small.pkl')\n",
    "ratings_df = pd.read_csv(r\"ml_data/ratings_1m.csv\")"
   ]
  },
  {
   "cell_type": "code",
   "execution_count": null,
   "id": "b362b663",
   "metadata": {},
   "outputs": [],
   "source": [
    "cf_model = load(r'models/cf_model.pkl')"
   ]
  },
  {
   "cell_type": "code",
   "execution_count": null,
   "id": "4191f380",
   "metadata": {},
   "outputs": [],
   "source": [
    "n=25 \n",
    "test_size=0.2 \n",
    "threshold=4.0"
   ]
  },
  {
   "cell_type": "code",
   "execution_count": null,
   "id": "0d975b63",
   "metadata": {},
   "outputs": [],
   "source": [
    "# Prepare data for Surprise\n",
    "reader = Reader(rating_scale=(1, 5))\n",
    "data = Dataset.load_from_df(ratings_df[['UserID', 'MovieID', 'Rating']], reader)"
   ]
  },
  {
   "cell_type": "code",
   "execution_count": null,
   "id": "d8770967",
   "metadata": {},
   "outputs": [],
   "source": [
    "# Split into train and test\n",
    "_, testset = train_test_split(data, test_size=test_size, random_state=42)"
   ]
  },
  {
   "cell_type": "code",
   "execution_count": null,
   "id": "85d2689d",
   "metadata": {},
   "outputs": [],
   "source": [
    "# Convert testset to DataFrame for easier handling\n",
    "test_df = pd.DataFrame(testset, columns=['UserID', 'MovieID', 'Rating'])"
   ]
  },
  {
   "cell_type": "code",
   "execution_count": null,
   "id": "b5f57159",
   "metadata": {},
   "outputs": [],
   "source": [
    "# Get relevant movies (ratings >= threshold) for each test user\n",
    "relevant_movies = test_df[test_df['Rating'] >= threshold].groupby('UserID')['MovieID'].apply(set).to_dict()"
   ]
  },
  {
   "cell_type": "code",
   "execution_count": null,
   "id": "06bc7b31",
   "metadata": {},
   "outputs": [],
   "source": [
    "print(relevant_movies.keys())"
   ]
  },
  {
   "cell_type": "code",
   "execution_count": null,
   "id": "f02f9412",
   "metadata": {},
   "outputs": [],
   "source": [
    "test_users = list(relevant_movies.keys())"
   ]
  },
  {
   "cell_type": "code",
   "execution_count": null,
   "id": "43ba873e",
   "metadata": {},
   "outputs": [],
   "source": [
    "# Sample test users (to speed up evaluation)\n",
    "if len(test_users) > 1000:  # Limit for efficiency\n",
    "    test_users = random.sample(test_users, 1000)"
   ]
  },
  {
   "cell_type": "code",
   "execution_count": null,
   "id": "286a811f",
   "metadata": {},
   "outputs": [],
   "source": [
    "precision_scores = []\n",
    "for user_id in test_users:\n",
    "    # Get top-N recommendations\n",
    "    top_n_movies = get_top_n_hybrid_recommendations(\n",
    "        user_id=user_id,\n",
    "        cf_model=cf_model,\n",
    "        dataset=ratings_df,  # Use full data for profile, but predictions are on trainset\n",
    "        genres_dict=genres_dict,\n",
    "        k=200,\n",
    "        n=n\n",
    "    )\n",
    "    \n",
    "    # Get relevant movies for this user\n",
    "    user_relevant = relevant_movies.get(user_id, set())\n",
    "    \n",
    "    # Compute Precision@N\n",
    "    relevant_in_top_n = len(set(top_n_movies) & user_relevant)\n",
    "    precision = relevant_in_top_n / n if n > 0 else 0.0\n",
    "    precision_scores.append(precision)"
   ]
  },
  {
   "cell_type": "code",
   "execution_count": null,
   "id": "819d4c56",
   "metadata": {},
   "outputs": [],
   "source": [
    "print(f\"Mean Precision@{n}: {np.mean(precision_scores)}\")"
   ]
  },
  {
   "cell_type": "markdown",
   "id": "3294bcc9",
   "metadata": {},
   "source": [
    "# Function 2 Validation"
   ]
  },
  {
   "cell_type": "code",
   "execution_count": 2,
   "id": "6e672fe3",
   "metadata": {},
   "outputs": [],
   "source": [
    "from hybrid_recommender_rework import get_top_movies_for_cluster"
   ]
  },
  {
   "cell_type": "code",
   "execution_count": 4,
   "id": "0cc3db07",
   "metadata": {},
   "outputs": [],
   "source": [
    "top_n = 20\n",
    "min_ratings = 5"
   ]
  },
  {
   "cell_type": "code",
   "execution_count": 3,
   "id": "391f3ddc",
   "metadata": {},
   "outputs": [],
   "source": [
    "ratings_df = pd.read_csv(r\"ml_data/ratings_1m.csv\")\n",
    "clusters_df = pd.read_csv(r\"ml_data/user_clusters.csv\")\n",
    "cluster_genres_df = pd.read_csv(r\"ml_data/cluster_genres.csv\")\n",
    "movies_df = pd.read_csv(r\"ml_data/movies_1m.csv\")"
   ]
  },
  {
   "cell_type": "code",
   "execution_count": 6,
   "id": "b2cb53b2",
   "metadata": {},
   "outputs": [],
   "source": [
    "# Step 1: Merge ratings with cluster assignments\n",
    "ratings_with_clusters = pd.merge(ratings_df, clusters_df, on='UserID')"
   ]
  },
  {
   "cell_type": "code",
   "execution_count": 7,
   "id": "68e667af",
   "metadata": {},
   "outputs": [
    {
     "data": {
      "text/html": [
       "<div>\n",
       "<style scoped>\n",
       "    .dataframe tbody tr th:only-of-type {\n",
       "        vertical-align: middle;\n",
       "    }\n",
       "\n",
       "    .dataframe tbody tr th {\n",
       "        vertical-align: top;\n",
       "    }\n",
       "\n",
       "    .dataframe thead th {\n",
       "        text-align: right;\n",
       "    }\n",
       "</style>\n",
       "<table border=\"1\" class=\"dataframe\">\n",
       "  <thead>\n",
       "    <tr style=\"text-align: right;\">\n",
       "      <th></th>\n",
       "      <th>UserID</th>\n",
       "      <th>MovieID</th>\n",
       "      <th>Rating</th>\n",
       "      <th>ClusterID</th>\n",
       "    </tr>\n",
       "  </thead>\n",
       "  <tbody>\n",
       "    <tr>\n",
       "      <th>0</th>\n",
       "      <td>1</td>\n",
       "      <td>1193</td>\n",
       "      <td>5</td>\n",
       "      <td>-1</td>\n",
       "    </tr>\n",
       "    <tr>\n",
       "      <th>1</th>\n",
       "      <td>1</td>\n",
       "      <td>661</td>\n",
       "      <td>3</td>\n",
       "      <td>-1</td>\n",
       "    </tr>\n",
       "    <tr>\n",
       "      <th>2</th>\n",
       "      <td>1</td>\n",
       "      <td>914</td>\n",
       "      <td>3</td>\n",
       "      <td>-1</td>\n",
       "    </tr>\n",
       "    <tr>\n",
       "      <th>3</th>\n",
       "      <td>1</td>\n",
       "      <td>3408</td>\n",
       "      <td>4</td>\n",
       "      <td>-1</td>\n",
       "    </tr>\n",
       "    <tr>\n",
       "      <th>4</th>\n",
       "      <td>1</td>\n",
       "      <td>2355</td>\n",
       "      <td>5</td>\n",
       "      <td>-1</td>\n",
       "    </tr>\n",
       "    <tr>\n",
       "      <th>...</th>\n",
       "      <td>...</td>\n",
       "      <td>...</td>\n",
       "      <td>...</td>\n",
       "      <td>...</td>\n",
       "    </tr>\n",
       "    <tr>\n",
       "      <th>943465</th>\n",
       "      <td>6040</td>\n",
       "      <td>1090</td>\n",
       "      <td>3</td>\n",
       "      <td>-1</td>\n",
       "    </tr>\n",
       "    <tr>\n",
       "      <th>943466</th>\n",
       "      <td>6040</td>\n",
       "      <td>1091</td>\n",
       "      <td>1</td>\n",
       "      <td>-1</td>\n",
       "    </tr>\n",
       "    <tr>\n",
       "      <th>943467</th>\n",
       "      <td>6040</td>\n",
       "      <td>1094</td>\n",
       "      <td>5</td>\n",
       "      <td>-1</td>\n",
       "    </tr>\n",
       "    <tr>\n",
       "      <th>943468</th>\n",
       "      <td>6040</td>\n",
       "      <td>562</td>\n",
       "      <td>5</td>\n",
       "      <td>-1</td>\n",
       "    </tr>\n",
       "    <tr>\n",
       "      <th>943469</th>\n",
       "      <td>6040</td>\n",
       "      <td>1096</td>\n",
       "      <td>4</td>\n",
       "      <td>-1</td>\n",
       "    </tr>\n",
       "  </tbody>\n",
       "</table>\n",
       "<p>943470 rows × 4 columns</p>\n",
       "</div>"
      ],
      "text/plain": [
       "        UserID  MovieID  Rating  ClusterID\n",
       "0            1     1193       5         -1\n",
       "1            1      661       3         -1\n",
       "2            1      914       3         -1\n",
       "3            1     3408       4         -1\n",
       "4            1     2355       5         -1\n",
       "...        ...      ...     ...        ...\n",
       "943465    6040     1090       3         -1\n",
       "943466    6040     1091       1         -1\n",
       "943467    6040     1094       5         -1\n",
       "943468    6040      562       5         -1\n",
       "943469    6040     1096       4         -1\n",
       "\n",
       "[943470 rows x 4 columns]"
      ]
     },
     "execution_count": 7,
     "metadata": {},
     "output_type": "execute_result"
    }
   ],
   "source": [
    "ratings_with_clusters.head(-1)"
   ]
  },
  {
   "cell_type": "code",
   "execution_count": 8,
   "id": "2220abac",
   "metadata": {},
   "outputs": [
    {
     "data": {
      "text/plain": [
       "ClusterID\n",
       "-1     200334\n",
       " 8     124074\n",
       " 7      98172\n",
       " 9      92117\n",
       " 6      80081\n",
       " 5      67885\n",
       " 3      58309\n",
       " 4      54360\n",
       " 1      47611\n",
       " 2      46384\n",
       " 0      43889\n",
       " 10     30255\n",
       "Name: count, dtype: int64"
      ]
     },
     "execution_count": 8,
     "metadata": {},
     "output_type": "execute_result"
    }
   ],
   "source": [
    "ratings_with_clusters[\"ClusterID\"].value_counts()"
   ]
  },
  {
   "cell_type": "code",
   "execution_count": 9,
   "id": "2795017c",
   "metadata": {},
   "outputs": [],
   "source": [
    "# Step 2: Calculate average ratings and counts per movie per cluster\n",
    "cluster_movie_stats = ratings_with_clusters.groupby(['ClusterID', 'MovieID']).agg(\n",
    "    avg_rating=('Rating', 'mean'),\n",
    "    rating_count=('Rating', 'count')\n",
    ").reset_index()"
   ]
  },
  {
   "cell_type": "code",
   "execution_count": 10,
   "id": "d1132d64",
   "metadata": {},
   "outputs": [
    {
     "data": {
      "text/html": [
       "<div>\n",
       "<style scoped>\n",
       "    .dataframe tbody tr th:only-of-type {\n",
       "        vertical-align: middle;\n",
       "    }\n",
       "\n",
       "    .dataframe tbody tr th {\n",
       "        vertical-align: top;\n",
       "    }\n",
       "\n",
       "    .dataframe thead th {\n",
       "        text-align: right;\n",
       "    }\n",
       "</style>\n",
       "<table border=\"1\" class=\"dataframe\">\n",
       "  <thead>\n",
       "    <tr style=\"text-align: right;\">\n",
       "      <th></th>\n",
       "      <th>ClusterID</th>\n",
       "      <th>MovieID</th>\n",
       "      <th>avg_rating</th>\n",
       "      <th>rating_count</th>\n",
       "    </tr>\n",
       "  </thead>\n",
       "  <tbody>\n",
       "    <tr>\n",
       "      <th>0</th>\n",
       "      <td>-1</td>\n",
       "      <td>1</td>\n",
       "      <td>4.171084</td>\n",
       "      <td>415</td>\n",
       "    </tr>\n",
       "    <tr>\n",
       "      <th>1</th>\n",
       "      <td>-1</td>\n",
       "      <td>2</td>\n",
       "      <td>3.254777</td>\n",
       "      <td>157</td>\n",
       "    </tr>\n",
       "    <tr>\n",
       "      <th>2</th>\n",
       "      <td>-1</td>\n",
       "      <td>3</td>\n",
       "      <td>2.990741</td>\n",
       "      <td>108</td>\n",
       "    </tr>\n",
       "    <tr>\n",
       "      <th>3</th>\n",
       "      <td>-1</td>\n",
       "      <td>4</td>\n",
       "      <td>2.888889</td>\n",
       "      <td>27</td>\n",
       "    </tr>\n",
       "    <tr>\n",
       "      <th>4</th>\n",
       "      <td>-1</td>\n",
       "      <td>5</td>\n",
       "      <td>3.058824</td>\n",
       "      <td>68</td>\n",
       "    </tr>\n",
       "    <tr>\n",
       "      <th>...</th>\n",
       "      <td>...</td>\n",
       "      <td>...</td>\n",
       "      <td>...</td>\n",
       "      <td>...</td>\n",
       "    </tr>\n",
       "    <tr>\n",
       "      <th>37966</th>\n",
       "      <td>10</td>\n",
       "      <td>3944</td>\n",
       "      <td>5.000000</td>\n",
       "      <td>1</td>\n",
       "    </tr>\n",
       "    <tr>\n",
       "      <th>37967</th>\n",
       "      <td>10</td>\n",
       "      <td>3946</td>\n",
       "      <td>1.333333</td>\n",
       "      <td>3</td>\n",
       "    </tr>\n",
       "    <tr>\n",
       "      <th>37968</th>\n",
       "      <td>10</td>\n",
       "      <td>3948</td>\n",
       "      <td>3.869565</td>\n",
       "      <td>23</td>\n",
       "    </tr>\n",
       "    <tr>\n",
       "      <th>37969</th>\n",
       "      <td>10</td>\n",
       "      <td>3949</td>\n",
       "      <td>3.444444</td>\n",
       "      <td>9</td>\n",
       "    </tr>\n",
       "    <tr>\n",
       "      <th>37970</th>\n",
       "      <td>10</td>\n",
       "      <td>3951</td>\n",
       "      <td>3.000000</td>\n",
       "      <td>3</td>\n",
       "    </tr>\n",
       "  </tbody>\n",
       "</table>\n",
       "<p>37971 rows × 4 columns</p>\n",
       "</div>"
      ],
      "text/plain": [
       "       ClusterID  MovieID  avg_rating  rating_count\n",
       "0             -1        1    4.171084           415\n",
       "1             -1        2    3.254777           157\n",
       "2             -1        3    2.990741           108\n",
       "3             -1        4    2.888889            27\n",
       "4             -1        5    3.058824            68\n",
       "...          ...      ...         ...           ...\n",
       "37966         10     3944    5.000000             1\n",
       "37967         10     3946    1.333333             3\n",
       "37968         10     3948    3.869565            23\n",
       "37969         10     3949    3.444444             9\n",
       "37970         10     3951    3.000000             3\n",
       "\n",
       "[37971 rows x 4 columns]"
      ]
     },
     "execution_count": 10,
     "metadata": {},
     "output_type": "execute_result"
    }
   ],
   "source": [
    "cluster_movie_stats.head(-1)"
   ]
  },
  {
   "cell_type": "code",
   "execution_count": 11,
   "id": "96c56bf1",
   "metadata": {},
   "outputs": [],
   "source": [
    "# Step 3: Filter movies with sufficient ratings\n",
    "cluster_movie_stats = cluster_movie_stats[cluster_movie_stats['rating_count'] >= min_ratings]"
   ]
  },
  {
   "cell_type": "code",
   "execution_count": 12,
   "id": "ab5084ae",
   "metadata": {},
   "outputs": [
    {
     "data": {
      "text/html": [
       "<div>\n",
       "<style scoped>\n",
       "    .dataframe tbody tr th:only-of-type {\n",
       "        vertical-align: middle;\n",
       "    }\n",
       "\n",
       "    .dataframe tbody tr th {\n",
       "        vertical-align: top;\n",
       "    }\n",
       "\n",
       "    .dataframe thead th {\n",
       "        text-align: right;\n",
       "    }\n",
       "</style>\n",
       "<table border=\"1\" class=\"dataframe\">\n",
       "  <thead>\n",
       "    <tr style=\"text-align: right;\">\n",
       "      <th></th>\n",
       "      <th>ClusterID</th>\n",
       "      <th>MovieID</th>\n",
       "      <th>avg_rating</th>\n",
       "      <th>rating_count</th>\n",
       "    </tr>\n",
       "  </thead>\n",
       "  <tbody>\n",
       "    <tr>\n",
       "      <th>0</th>\n",
       "      <td>-1</td>\n",
       "      <td>1</td>\n",
       "      <td>4.171084</td>\n",
       "      <td>415</td>\n",
       "    </tr>\n",
       "    <tr>\n",
       "      <th>1</th>\n",
       "      <td>-1</td>\n",
       "      <td>2</td>\n",
       "      <td>3.254777</td>\n",
       "      <td>157</td>\n",
       "    </tr>\n",
       "    <tr>\n",
       "      <th>2</th>\n",
       "      <td>-1</td>\n",
       "      <td>3</td>\n",
       "      <td>2.990741</td>\n",
       "      <td>108</td>\n",
       "    </tr>\n",
       "    <tr>\n",
       "      <th>3</th>\n",
       "      <td>-1</td>\n",
       "      <td>4</td>\n",
       "      <td>2.888889</td>\n",
       "      <td>27</td>\n",
       "    </tr>\n",
       "    <tr>\n",
       "      <th>4</th>\n",
       "      <td>-1</td>\n",
       "      <td>5</td>\n",
       "      <td>3.058824</td>\n",
       "      <td>68</td>\n",
       "    </tr>\n",
       "    <tr>\n",
       "      <th>...</th>\n",
       "      <td>...</td>\n",
       "      <td>...</td>\n",
       "      <td>...</td>\n",
       "      <td>...</td>\n",
       "    </tr>\n",
       "    <tr>\n",
       "      <th>37950</th>\n",
       "      <td>10</td>\n",
       "      <td>3926</td>\n",
       "      <td>3.400000</td>\n",
       "      <td>5</td>\n",
       "    </tr>\n",
       "    <tr>\n",
       "      <th>37951</th>\n",
       "      <td>10</td>\n",
       "      <td>3927</td>\n",
       "      <td>3.300000</td>\n",
       "      <td>10</td>\n",
       "    </tr>\n",
       "    <tr>\n",
       "      <th>37952</th>\n",
       "      <td>10</td>\n",
       "      <td>3928</td>\n",
       "      <td>3.363636</td>\n",
       "      <td>11</td>\n",
       "    </tr>\n",
       "    <tr>\n",
       "      <th>37968</th>\n",
       "      <td>10</td>\n",
       "      <td>3948</td>\n",
       "      <td>3.869565</td>\n",
       "      <td>23</td>\n",
       "    </tr>\n",
       "    <tr>\n",
       "      <th>37969</th>\n",
       "      <td>10</td>\n",
       "      <td>3949</td>\n",
       "      <td>3.444444</td>\n",
       "      <td>9</td>\n",
       "    </tr>\n",
       "  </tbody>\n",
       "</table>\n",
       "<p>27057 rows × 4 columns</p>\n",
       "</div>"
      ],
      "text/plain": [
       "       ClusterID  MovieID  avg_rating  rating_count\n",
       "0             -1        1    4.171084           415\n",
       "1             -1        2    3.254777           157\n",
       "2             -1        3    2.990741           108\n",
       "3             -1        4    2.888889            27\n",
       "4             -1        5    3.058824            68\n",
       "...          ...      ...         ...           ...\n",
       "37950         10     3926    3.400000             5\n",
       "37951         10     3927    3.300000            10\n",
       "37952         10     3928    3.363636            11\n",
       "37968         10     3948    3.869565            23\n",
       "37969         10     3949    3.444444             9\n",
       "\n",
       "[27057 rows x 4 columns]"
      ]
     },
     "execution_count": 12,
     "metadata": {},
     "output_type": "execute_result"
    }
   ],
   "source": [
    "cluster_movie_stats.head(-1)"
   ]
  },
  {
   "cell_type": "code",
   "execution_count": 13,
   "id": "bd27bf71",
   "metadata": {},
   "outputs": [],
   "source": [
    "# Step 4: Prepare genre data for matching\n",
    "movies_df['genres_list'] = movies_df['Genres'].str.split('|')\n",
    "cluster_genres_df['top_genres_list'] = cluster_genres_df['Genres Ranked by Score'].str.split(',')"
   ]
  },
  {
   "cell_type": "code",
   "execution_count": 14,
   "id": "c7a36d43",
   "metadata": {},
   "outputs": [
    {
     "data": {
      "text/html": [
       "<div>\n",
       "<style scoped>\n",
       "    .dataframe tbody tr th:only-of-type {\n",
       "        vertical-align: middle;\n",
       "    }\n",
       "\n",
       "    .dataframe tbody tr th {\n",
       "        vertical-align: top;\n",
       "    }\n",
       "\n",
       "    .dataframe thead th {\n",
       "        text-align: right;\n",
       "    }\n",
       "</style>\n",
       "<table border=\"1\" class=\"dataframe\">\n",
       "  <thead>\n",
       "    <tr style=\"text-align: right;\">\n",
       "      <th></th>\n",
       "      <th>ClusterID</th>\n",
       "      <th>Genres Ranked by Score</th>\n",
       "      <th>top_genres_list</th>\n",
       "    </tr>\n",
       "  </thead>\n",
       "  <tbody>\n",
       "    <tr>\n",
       "      <th>0</th>\n",
       "      <td>-1</td>\n",
       "      <td>NaN</td>\n",
       "      <td>NaN</td>\n",
       "    </tr>\n",
       "    <tr>\n",
       "      <th>1</th>\n",
       "      <td>0</td>\n",
       "      <td>Animation, Crime, Mystery, Musical, Romance</td>\n",
       "      <td>[Animation,  Crime,  Mystery,  Musical,  Romance]</td>\n",
       "    </tr>\n",
       "    <tr>\n",
       "      <th>2</th>\n",
       "      <td>1</td>\n",
       "      <td>Mystery, Crime, Animation, Western, Musical</td>\n",
       "      <td>[Mystery,  Crime,  Animation,  Western,  Musical]</td>\n",
       "    </tr>\n",
       "    <tr>\n",
       "      <th>3</th>\n",
       "      <td>2</td>\n",
       "      <td>Animation, Crime, Musical, Western, Mystery</td>\n",
       "      <td>[Animation,  Crime,  Musical,  Western,  Mystery]</td>\n",
       "    </tr>\n",
       "    <tr>\n",
       "      <th>4</th>\n",
       "      <td>3</td>\n",
       "      <td>Animation, Musical, Crime, Western, Mystery</td>\n",
       "      <td>[Animation,  Musical,  Crime,  Western,  Mystery]</td>\n",
       "    </tr>\n",
       "    <tr>\n",
       "      <th>5</th>\n",
       "      <td>4</td>\n",
       "      <td>Western, Crime, Mystery, Animation, Romance</td>\n",
       "      <td>[Western,  Crime,  Mystery,  Animation,  Romance]</td>\n",
       "    </tr>\n",
       "    <tr>\n",
       "      <th>6</th>\n",
       "      <td>5</td>\n",
       "      <td>Animation, Crime, Musical, Romance, Western</td>\n",
       "      <td>[Animation,  Crime,  Musical,  Romance,  Western]</td>\n",
       "    </tr>\n",
       "    <tr>\n",
       "      <th>7</th>\n",
       "      <td>6</td>\n",
       "      <td>Musical, Animation, Mystery, Crime, Western</td>\n",
       "      <td>[Musical,  Animation,  Mystery,  Crime,  Western]</td>\n",
       "    </tr>\n",
       "    <tr>\n",
       "      <th>8</th>\n",
       "      <td>7</td>\n",
       "      <td>Crime, Animation, Musical, Mystery, Thriller</td>\n",
       "      <td>[Crime,  Animation,  Musical,  Mystery,  Thril...</td>\n",
       "    </tr>\n",
       "    <tr>\n",
       "      <th>9</th>\n",
       "      <td>8</td>\n",
       "      <td>Crime, Animation, Musical, Mystery, Romance</td>\n",
       "      <td>[Crime,  Animation,  Musical,  Mystery,  Romance]</td>\n",
       "    </tr>\n",
       "    <tr>\n",
       "      <th>10</th>\n",
       "      <td>9</td>\n",
       "      <td>Western, Animation, Crime, Musical, Mystery</td>\n",
       "      <td>[Western,  Animation,  Crime,  Musical,  Mystery]</td>\n",
       "    </tr>\n",
       "  </tbody>\n",
       "</table>\n",
       "</div>"
      ],
      "text/plain": [
       "    ClusterID                        Genres Ranked by Score  \\\n",
       "0          -1                                           NaN   \n",
       "1           0   Animation, Crime, Mystery, Musical, Romance   \n",
       "2           1   Mystery, Crime, Animation, Western, Musical   \n",
       "3           2   Animation, Crime, Musical, Western, Mystery   \n",
       "4           3   Animation, Musical, Crime, Western, Mystery   \n",
       "5           4   Western, Crime, Mystery, Animation, Romance   \n",
       "6           5   Animation, Crime, Musical, Romance, Western   \n",
       "7           6   Musical, Animation, Mystery, Crime, Western   \n",
       "8           7  Crime, Animation, Musical, Mystery, Thriller   \n",
       "9           8   Crime, Animation, Musical, Mystery, Romance   \n",
       "10          9   Western, Animation, Crime, Musical, Mystery   \n",
       "\n",
       "                                      top_genres_list  \n",
       "0                                                 NaN  \n",
       "1   [Animation,  Crime,  Mystery,  Musical,  Romance]  \n",
       "2   [Mystery,  Crime,  Animation,  Western,  Musical]  \n",
       "3   [Animation,  Crime,  Musical,  Western,  Mystery]  \n",
       "4   [Animation,  Musical,  Crime,  Western,  Mystery]  \n",
       "5   [Western,  Crime,  Mystery,  Animation,  Romance]  \n",
       "6   [Animation,  Crime,  Musical,  Romance,  Western]  \n",
       "7   [Musical,  Animation,  Mystery,  Crime,  Western]  \n",
       "8   [Crime,  Animation,  Musical,  Mystery,  Thril...  \n",
       "9   [Crime,  Animation,  Musical,  Mystery,  Romance]  \n",
       "10  [Western,  Animation,  Crime,  Musical,  Mystery]  "
      ]
     },
     "execution_count": 14,
     "metadata": {},
     "output_type": "execute_result"
    }
   ],
   "source": [
    "cluster_genres_df.head(-1)"
   ]
  },
  {
   "cell_type": "code",
   "execution_count": 15,
   "id": "a855e8f1",
   "metadata": {},
   "outputs": [],
   "source": [
    "# Merge movie genres into cluster_movie_stats\n",
    "cluster_movie_stats = pd.merge(cluster_movie_stats, movies_df[['MovieID', 'genres_list']], on='MovieID')"
   ]
  },
  {
   "cell_type": "code",
   "execution_count": 16,
   "id": "66807b9e",
   "metadata": {},
   "outputs": [
    {
     "data": {
      "text/html": [
       "<div>\n",
       "<style scoped>\n",
       "    .dataframe tbody tr th:only-of-type {\n",
       "        vertical-align: middle;\n",
       "    }\n",
       "\n",
       "    .dataframe tbody tr th {\n",
       "        vertical-align: top;\n",
       "    }\n",
       "\n",
       "    .dataframe thead th {\n",
       "        text-align: right;\n",
       "    }\n",
       "</style>\n",
       "<table border=\"1\" class=\"dataframe\">\n",
       "  <thead>\n",
       "    <tr style=\"text-align: right;\">\n",
       "      <th></th>\n",
       "      <th>ClusterID</th>\n",
       "      <th>MovieID</th>\n",
       "      <th>avg_rating</th>\n",
       "      <th>rating_count</th>\n",
       "      <th>genres_list</th>\n",
       "    </tr>\n",
       "  </thead>\n",
       "  <tbody>\n",
       "    <tr>\n",
       "      <th>0</th>\n",
       "      <td>-1</td>\n",
       "      <td>1</td>\n",
       "      <td>4.171084</td>\n",
       "      <td>415</td>\n",
       "      <td>[Animation, Children's, Comedy]</td>\n",
       "    </tr>\n",
       "    <tr>\n",
       "      <th>1</th>\n",
       "      <td>-1</td>\n",
       "      <td>2</td>\n",
       "      <td>3.254777</td>\n",
       "      <td>157</td>\n",
       "      <td>[Adventure, Children's, Fantasy]</td>\n",
       "    </tr>\n",
       "    <tr>\n",
       "      <th>2</th>\n",
       "      <td>-1</td>\n",
       "      <td>3</td>\n",
       "      <td>2.990741</td>\n",
       "      <td>108</td>\n",
       "      <td>[Comedy, Romance]</td>\n",
       "    </tr>\n",
       "    <tr>\n",
       "      <th>3</th>\n",
       "      <td>-1</td>\n",
       "      <td>4</td>\n",
       "      <td>2.888889</td>\n",
       "      <td>27</td>\n",
       "      <td>[Comedy, Drama]</td>\n",
       "    </tr>\n",
       "    <tr>\n",
       "      <th>4</th>\n",
       "      <td>-1</td>\n",
       "      <td>5</td>\n",
       "      <td>3.058824</td>\n",
       "      <td>68</td>\n",
       "      <td>[Comedy]</td>\n",
       "    </tr>\n",
       "    <tr>\n",
       "      <th>...</th>\n",
       "      <td>...</td>\n",
       "      <td>...</td>\n",
       "      <td>...</td>\n",
       "      <td>...</td>\n",
       "      <td>...</td>\n",
       "    </tr>\n",
       "    <tr>\n",
       "      <th>27052</th>\n",
       "      <td>10</td>\n",
       "      <td>3926</td>\n",
       "      <td>3.400000</td>\n",
       "      <td>5</td>\n",
       "      <td>[Adventure, Sci-Fi]</td>\n",
       "    </tr>\n",
       "    <tr>\n",
       "      <th>27053</th>\n",
       "      <td>10</td>\n",
       "      <td>3927</td>\n",
       "      <td>3.300000</td>\n",
       "      <td>10</td>\n",
       "      <td>[Adventure, Sci-Fi]</td>\n",
       "    </tr>\n",
       "    <tr>\n",
       "      <th>27054</th>\n",
       "      <td>10</td>\n",
       "      <td>3928</td>\n",
       "      <td>3.363636</td>\n",
       "      <td>11</td>\n",
       "      <td>[Comedy, Horror]</td>\n",
       "    </tr>\n",
       "    <tr>\n",
       "      <th>27055</th>\n",
       "      <td>10</td>\n",
       "      <td>3948</td>\n",
       "      <td>3.869565</td>\n",
       "      <td>23</td>\n",
       "      <td>[Comedy]</td>\n",
       "    </tr>\n",
       "    <tr>\n",
       "      <th>27056</th>\n",
       "      <td>10</td>\n",
       "      <td>3949</td>\n",
       "      <td>3.444444</td>\n",
       "      <td>9</td>\n",
       "      <td>[Drama]</td>\n",
       "    </tr>\n",
       "  </tbody>\n",
       "</table>\n",
       "<p>27057 rows × 5 columns</p>\n",
       "</div>"
      ],
      "text/plain": [
       "       ClusterID  MovieID  avg_rating  rating_count  \\\n",
       "0             -1        1    4.171084           415   \n",
       "1             -1        2    3.254777           157   \n",
       "2             -1        3    2.990741           108   \n",
       "3             -1        4    2.888889            27   \n",
       "4             -1        5    3.058824            68   \n",
       "...          ...      ...         ...           ...   \n",
       "27052         10     3926    3.400000             5   \n",
       "27053         10     3927    3.300000            10   \n",
       "27054         10     3928    3.363636            11   \n",
       "27055         10     3948    3.869565            23   \n",
       "27056         10     3949    3.444444             9   \n",
       "\n",
       "                            genres_list  \n",
       "0       [Animation, Children's, Comedy]  \n",
       "1      [Adventure, Children's, Fantasy]  \n",
       "2                     [Comedy, Romance]  \n",
       "3                       [Comedy, Drama]  \n",
       "4                              [Comedy]  \n",
       "...                                 ...  \n",
       "27052               [Adventure, Sci-Fi]  \n",
       "27053               [Adventure, Sci-Fi]  \n",
       "27054                  [Comedy, Horror]  \n",
       "27055                          [Comedy]  \n",
       "27056                           [Drama]  \n",
       "\n",
       "[27057 rows x 5 columns]"
      ]
     },
     "execution_count": 16,
     "metadata": {},
     "output_type": "execute_result"
    }
   ],
   "source": [
    "cluster_movie_stats.head(-1)"
   ]
  },
  {
   "cell_type": "code",
   "execution_count": 17,
   "id": "27c87995",
   "metadata": {},
   "outputs": [],
   "source": [
    "# Step 5: Check genre overlap and adjust scores\n",
    "def has_top_genre(row, cluster_genres):\n",
    "    cluster_top_genres = cluster_genres.get(row['ClusterID'], [])\n",
    "    return any(genre in cluster_top_genres for genre in row['genres_list'])"
   ]
  },
  {
   "cell_type": "code",
   "execution_count": 18,
   "id": "50ec45d5",
   "metadata": {},
   "outputs": [],
   "source": [
    "cluster_genres_dict = cluster_genres_df.set_index('ClusterID')['top_genres_list'].to_dict()"
   ]
  },
  {
   "cell_type": "code",
   "execution_count": 19,
   "id": "f2049105",
   "metadata": {},
   "outputs": [
    {
     "name": "stdout",
     "output_type": "stream",
     "text": [
      "{-1: nan, 0: ['Animation', ' Crime', ' Mystery', ' Musical', ' Romance'], 1: ['Mystery', ' Crime', ' Animation', ' Western', ' Musical'], 2: ['Animation', ' Crime', ' Musical', ' Western', ' Mystery'], 3: ['Animation', ' Musical', ' Crime', ' Western', ' Mystery'], 4: ['Western', ' Crime', ' Mystery', ' Animation', ' Romance'], 5: ['Animation', ' Crime', ' Musical', ' Romance', ' Western'], 6: ['Musical', ' Animation', ' Mystery', ' Crime', ' Western'], 7: ['Crime', ' Animation', ' Musical', ' Mystery', ' Thriller'], 8: ['Crime', ' Animation', ' Musical', ' Mystery', ' Romance'], 9: ['Western', ' Animation', ' Crime', ' Musical', ' Mystery'], 10: ['Animation', ' Musical', ' Crime', \" Children's\", ' Mystery']}\n"
     ]
    }
   ],
   "source": [
    "print(cluster_genres_dict)"
   ]
  },
  {
   "cell_type": "code",
   "execution_count": 20,
   "id": "b4b258c1",
   "metadata": {},
   "outputs": [
    {
     "data": {
      "text/plain": [
       "nan"
      ]
     },
     "execution_count": 20,
     "metadata": {},
     "output_type": "execute_result"
    }
   ],
   "source": [
    "cluster_genres_dict.pop(-1, None)  # Remove the entry for ClusterID -1"
   ]
  },
  {
   "cell_type": "code",
   "execution_count": 21,
   "id": "4bd9e615",
   "metadata": {},
   "outputs": [
    {
     "name": "stdout",
     "output_type": "stream",
     "text": [
      "{0: ['Animation', ' Crime', ' Mystery', ' Musical', ' Romance'], 1: ['Mystery', ' Crime', ' Animation', ' Western', ' Musical'], 2: ['Animation', ' Crime', ' Musical', ' Western', ' Mystery'], 3: ['Animation', ' Musical', ' Crime', ' Western', ' Mystery'], 4: ['Western', ' Crime', ' Mystery', ' Animation', ' Romance'], 5: ['Animation', ' Crime', ' Musical', ' Romance', ' Western'], 6: ['Musical', ' Animation', ' Mystery', ' Crime', ' Western'], 7: ['Crime', ' Animation', ' Musical', ' Mystery', ' Thriller'], 8: ['Crime', ' Animation', ' Musical', ' Mystery', ' Romance'], 9: ['Western', ' Animation', ' Crime', ' Musical', ' Mystery'], 10: ['Animation', ' Musical', ' Crime', \" Children's\", ' Mystery']}\n"
     ]
    }
   ],
   "source": [
    "print(cluster_genres_dict)"
   ]
  },
  {
   "cell_type": "code",
   "execution_count": 22,
   "id": "7fa1cc45",
   "metadata": {},
   "outputs": [],
   "source": [
    "cluster_movie_stats['matches_top_genre'] = cluster_movie_stats.apply(\n",
    "    lambda row: has_top_genre(row, cluster_genres_dict), axis=1\n",
    ")"
   ]
  },
  {
   "cell_type": "code",
   "execution_count": 23,
   "id": "d9c78227",
   "metadata": {},
   "outputs": [],
   "source": [
    "# Boost rating by 20% if genres match\n",
    "cluster_movie_stats['adjusted_score'] = cluster_movie_stats.apply(\n",
    "    lambda row: row['avg_rating'] * 1.2 if row['matches_top_genre'] else row['avg_rating'], axis=1\n",
    ")"
   ]
  },
  {
   "cell_type": "code",
   "execution_count": 24,
   "id": "f23e458d",
   "metadata": {},
   "outputs": [
    {
     "name": "stderr",
     "output_type": "stream",
     "text": [
      "C:\\Users\\Ahmed\\AppData\\Local\\Temp\\ipykernel_18040\\1457588427.py:2: DeprecationWarning: DataFrameGroupBy.apply operated on the grouping columns. This behavior is deprecated, and in a future version of pandas the grouping columns will be excluded from the operation. Either pass `include_groups=False` to exclude the groupings or explicitly select the grouping columns after groupby to silence this warning.\n",
      "  top_movies = cluster_movie_stats.groupby('ClusterID').apply(\n"
     ]
    }
   ],
   "source": [
    "# Step 6: Rank and select top movies per cluster\n",
    "top_movies = cluster_movie_stats.groupby('ClusterID').apply(\n",
    "    lambda x: x.nlargest(top_n, 'adjusted_score')[['MovieID', 'adjusted_score']]\n",
    ").reset_index()"
   ]
  },
  {
   "cell_type": "code",
   "execution_count": 25,
   "id": "d5f0d5ea",
   "metadata": {},
   "outputs": [
    {
     "data": {
      "text/html": [
       "<div>\n",
       "<style scoped>\n",
       "    .dataframe tbody tr th:only-of-type {\n",
       "        vertical-align: middle;\n",
       "    }\n",
       "\n",
       "    .dataframe tbody tr th {\n",
       "        vertical-align: top;\n",
       "    }\n",
       "\n",
       "    .dataframe thead th {\n",
       "        text-align: right;\n",
       "    }\n",
       "</style>\n",
       "<table border=\"1\" class=\"dataframe\">\n",
       "  <thead>\n",
       "    <tr style=\"text-align: right;\">\n",
       "      <th></th>\n",
       "      <th>ClusterID</th>\n",
       "      <th>level_1</th>\n",
       "      <th>MovieID</th>\n",
       "      <th>adjusted_score</th>\n",
       "    </tr>\n",
       "  </thead>\n",
       "  <tbody>\n",
       "    <tr>\n",
       "      <th>0</th>\n",
       "      <td>-1</td>\n",
       "      <td>2148</td>\n",
       "      <td>2905</td>\n",
       "      <td>4.733333</td>\n",
       "    </tr>\n",
       "    <tr>\n",
       "      <th>1</th>\n",
       "      <td>-1</td>\n",
       "      <td>1440</td>\n",
       "      <td>2019</td>\n",
       "      <td>4.606299</td>\n",
       "    </tr>\n",
       "    <tr>\n",
       "      <th>2</th>\n",
       "      <td>-1</td>\n",
       "      <td>2240</td>\n",
       "      <td>3030</td>\n",
       "      <td>4.606061</td>\n",
       "    </tr>\n",
       "    <tr>\n",
       "      <th>3</th>\n",
       "      <td>-1</td>\n",
       "      <td>509</td>\n",
       "      <td>649</td>\n",
       "      <td>4.600000</td>\n",
       "    </tr>\n",
       "    <tr>\n",
       "      <th>4</th>\n",
       "      <td>-1</td>\n",
       "      <td>516</td>\n",
       "      <td>665</td>\n",
       "      <td>4.600000</td>\n",
       "    </tr>\n",
       "    <tr>\n",
       "      <th>...</th>\n",
       "      <td>...</td>\n",
       "      <td>...</td>\n",
       "      <td>...</td>\n",
       "      <td>...</td>\n",
       "    </tr>\n",
       "    <tr>\n",
       "      <th>234</th>\n",
       "      <td>10</td>\n",
       "      <td>26313</td>\n",
       "      <td>2078</td>\n",
       "      <td>4.916129</td>\n",
       "    </tr>\n",
       "    <tr>\n",
       "      <th>235</th>\n",
       "      <td>10</td>\n",
       "      <td>25680</td>\n",
       "      <td>595</td>\n",
       "      <td>4.885714</td>\n",
       "    </tr>\n",
       "    <tr>\n",
       "      <th>236</th>\n",
       "      <td>10</td>\n",
       "      <td>26214</td>\n",
       "      <td>1907</td>\n",
       "      <td>4.863158</td>\n",
       "    </tr>\n",
       "    <tr>\n",
       "      <th>237</th>\n",
       "      <td>10</td>\n",
       "      <td>26358</td>\n",
       "      <td>2137</td>\n",
       "      <td>4.863158</td>\n",
       "    </tr>\n",
       "    <tr>\n",
       "      <th>238</th>\n",
       "      <td>10</td>\n",
       "      <td>27049</td>\n",
       "      <td>3910</td>\n",
       "      <td>4.857143</td>\n",
       "    </tr>\n",
       "  </tbody>\n",
       "</table>\n",
       "<p>239 rows × 4 columns</p>\n",
       "</div>"
      ],
      "text/plain": [
       "     ClusterID  level_1  MovieID  adjusted_score\n",
       "0           -1     2148     2905        4.733333\n",
       "1           -1     1440     2019        4.606299\n",
       "2           -1     2240     3030        4.606061\n",
       "3           -1      509      649        4.600000\n",
       "4           -1      516      665        4.600000\n",
       "..         ...      ...      ...             ...\n",
       "234         10    26313     2078        4.916129\n",
       "235         10    25680      595        4.885714\n",
       "236         10    26214     1907        4.863158\n",
       "237         10    26358     2137        4.863158\n",
       "238         10    27049     3910        4.857143\n",
       "\n",
       "[239 rows x 4 columns]"
      ]
     },
     "execution_count": 25,
     "metadata": {},
     "output_type": "execute_result"
    }
   ],
   "source": [
    "top_movies.head(-1)"
   ]
  },
  {
   "cell_type": "code",
   "execution_count": 26,
   "id": "dfac3de6",
   "metadata": {},
   "outputs": [],
   "source": [
    "noiseIndexes = top_movies[top_movies['ClusterID'] == -1].index\n",
    "top_movies = top_movies.drop(noiseIndexes).reset_index(drop=True)"
   ]
  },
  {
   "cell_type": "code",
   "execution_count": 27,
   "id": "efd6e818",
   "metadata": {},
   "outputs": [
    {
     "data": {
      "text/html": [
       "<div>\n",
       "<style scoped>\n",
       "    .dataframe tbody tr th:only-of-type {\n",
       "        vertical-align: middle;\n",
       "    }\n",
       "\n",
       "    .dataframe tbody tr th {\n",
       "        vertical-align: top;\n",
       "    }\n",
       "\n",
       "    .dataframe thead th {\n",
       "        text-align: right;\n",
       "    }\n",
       "</style>\n",
       "<table border=\"1\" class=\"dataframe\">\n",
       "  <thead>\n",
       "    <tr style=\"text-align: right;\">\n",
       "      <th></th>\n",
       "      <th>ClusterID</th>\n",
       "      <th>level_1</th>\n",
       "      <th>MovieID</th>\n",
       "      <th>adjusted_score</th>\n",
       "    </tr>\n",
       "  </thead>\n",
       "  <tbody>\n",
       "    <tr>\n",
       "      <th>0</th>\n",
       "      <td>0</td>\n",
       "      <td>3528</td>\n",
       "      <td>1223</td>\n",
       "      <td>5.431579</td>\n",
       "    </tr>\n",
       "    <tr>\n",
       "      <th>1</th>\n",
       "      <td>0</td>\n",
       "      <td>3285</td>\n",
       "      <td>720</td>\n",
       "      <td>5.400000</td>\n",
       "    </tr>\n",
       "    <tr>\n",
       "      <th>2</th>\n",
       "      <td>0</td>\n",
       "      <td>3481</td>\n",
       "      <td>1148</td>\n",
       "      <td>5.341935</td>\n",
       "    </tr>\n",
       "    <tr>\n",
       "      <th>3</th>\n",
       "      <td>0</td>\n",
       "      <td>3294</td>\n",
       "      <td>745</td>\n",
       "      <td>5.250000</td>\n",
       "    </tr>\n",
       "    <tr>\n",
       "      <th>4</th>\n",
       "      <td>0</td>\n",
       "      <td>4525</td>\n",
       "      <td>3114</td>\n",
       "      <td>5.165217</td>\n",
       "    </tr>\n",
       "    <tr>\n",
       "      <th>...</th>\n",
       "      <td>...</td>\n",
       "      <td>...</td>\n",
       "      <td>...</td>\n",
       "      <td>...</td>\n",
       "    </tr>\n",
       "    <tr>\n",
       "      <th>214</th>\n",
       "      <td>10</td>\n",
       "      <td>26313</td>\n",
       "      <td>2078</td>\n",
       "      <td>4.916129</td>\n",
       "    </tr>\n",
       "    <tr>\n",
       "      <th>215</th>\n",
       "      <td>10</td>\n",
       "      <td>25680</td>\n",
       "      <td>595</td>\n",
       "      <td>4.885714</td>\n",
       "    </tr>\n",
       "    <tr>\n",
       "      <th>216</th>\n",
       "      <td>10</td>\n",
       "      <td>26214</td>\n",
       "      <td>1907</td>\n",
       "      <td>4.863158</td>\n",
       "    </tr>\n",
       "    <tr>\n",
       "      <th>217</th>\n",
       "      <td>10</td>\n",
       "      <td>26358</td>\n",
       "      <td>2137</td>\n",
       "      <td>4.863158</td>\n",
       "    </tr>\n",
       "    <tr>\n",
       "      <th>218</th>\n",
       "      <td>10</td>\n",
       "      <td>27049</td>\n",
       "      <td>3910</td>\n",
       "      <td>4.857143</td>\n",
       "    </tr>\n",
       "  </tbody>\n",
       "</table>\n",
       "<p>219 rows × 4 columns</p>\n",
       "</div>"
      ],
      "text/plain": [
       "     ClusterID  level_1  MovieID  adjusted_score\n",
       "0            0     3528     1223        5.431579\n",
       "1            0     3285      720        5.400000\n",
       "2            0     3481     1148        5.341935\n",
       "3            0     3294      745        5.250000\n",
       "4            0     4525     3114        5.165217\n",
       "..         ...      ...      ...             ...\n",
       "214         10    26313     2078        4.916129\n",
       "215         10    25680      595        4.885714\n",
       "216         10    26214     1907        4.863158\n",
       "217         10    26358     2137        4.863158\n",
       "218         10    27049     3910        4.857143\n",
       "\n",
       "[219 rows x 4 columns]"
      ]
     },
     "execution_count": 27,
     "metadata": {},
     "output_type": "execute_result"
    }
   ],
   "source": [
    "top_movies.head(-1)"
   ]
  },
  {
   "cell_type": "code",
   "execution_count": 28,
   "id": "c8df72ff",
   "metadata": {},
   "outputs": [],
   "source": [
    "top_movies['adjusted_score'] = top_movies.adjusted_score.round(3)"
   ]
  },
  {
   "cell_type": "code",
   "execution_count": 29,
   "id": "51474f8c",
   "metadata": {},
   "outputs": [
    {
     "data": {
      "text/html": [
       "<div>\n",
       "<style scoped>\n",
       "    .dataframe tbody tr th:only-of-type {\n",
       "        vertical-align: middle;\n",
       "    }\n",
       "\n",
       "    .dataframe tbody tr th {\n",
       "        vertical-align: top;\n",
       "    }\n",
       "\n",
       "    .dataframe thead th {\n",
       "        text-align: right;\n",
       "    }\n",
       "</style>\n",
       "<table border=\"1\" class=\"dataframe\">\n",
       "  <thead>\n",
       "    <tr style=\"text-align: right;\">\n",
       "      <th></th>\n",
       "      <th>ClusterID</th>\n",
       "      <th>level_1</th>\n",
       "      <th>MovieID</th>\n",
       "      <th>adjusted_score</th>\n",
       "    </tr>\n",
       "  </thead>\n",
       "  <tbody>\n",
       "    <tr>\n",
       "      <th>0</th>\n",
       "      <td>0</td>\n",
       "      <td>3528</td>\n",
       "      <td>1223</td>\n",
       "      <td>5.432</td>\n",
       "    </tr>\n",
       "    <tr>\n",
       "      <th>1</th>\n",
       "      <td>0</td>\n",
       "      <td>3285</td>\n",
       "      <td>720</td>\n",
       "      <td>5.400</td>\n",
       "    </tr>\n",
       "    <tr>\n",
       "      <th>2</th>\n",
       "      <td>0</td>\n",
       "      <td>3481</td>\n",
       "      <td>1148</td>\n",
       "      <td>5.342</td>\n",
       "    </tr>\n",
       "    <tr>\n",
       "      <th>3</th>\n",
       "      <td>0</td>\n",
       "      <td>3294</td>\n",
       "      <td>745</td>\n",
       "      <td>5.250</td>\n",
       "    </tr>\n",
       "    <tr>\n",
       "      <th>4</th>\n",
       "      <td>0</td>\n",
       "      <td>4525</td>\n",
       "      <td>3114</td>\n",
       "      <td>5.165</td>\n",
       "    </tr>\n",
       "    <tr>\n",
       "      <th>...</th>\n",
       "      <td>...</td>\n",
       "      <td>...</td>\n",
       "      <td>...</td>\n",
       "      <td>...</td>\n",
       "    </tr>\n",
       "    <tr>\n",
       "      <th>214</th>\n",
       "      <td>10</td>\n",
       "      <td>26313</td>\n",
       "      <td>2078</td>\n",
       "      <td>4.916</td>\n",
       "    </tr>\n",
       "    <tr>\n",
       "      <th>215</th>\n",
       "      <td>10</td>\n",
       "      <td>25680</td>\n",
       "      <td>595</td>\n",
       "      <td>4.886</td>\n",
       "    </tr>\n",
       "    <tr>\n",
       "      <th>216</th>\n",
       "      <td>10</td>\n",
       "      <td>26214</td>\n",
       "      <td>1907</td>\n",
       "      <td>4.863</td>\n",
       "    </tr>\n",
       "    <tr>\n",
       "      <th>217</th>\n",
       "      <td>10</td>\n",
       "      <td>26358</td>\n",
       "      <td>2137</td>\n",
       "      <td>4.863</td>\n",
       "    </tr>\n",
       "    <tr>\n",
       "      <th>218</th>\n",
       "      <td>10</td>\n",
       "      <td>27049</td>\n",
       "      <td>3910</td>\n",
       "      <td>4.857</td>\n",
       "    </tr>\n",
       "  </tbody>\n",
       "</table>\n",
       "<p>219 rows × 4 columns</p>\n",
       "</div>"
      ],
      "text/plain": [
       "     ClusterID  level_1  MovieID  adjusted_score\n",
       "0            0     3528     1223           5.432\n",
       "1            0     3285      720           5.400\n",
       "2            0     3481     1148           5.342\n",
       "3            0     3294      745           5.250\n",
       "4            0     4525     3114           5.165\n",
       "..         ...      ...      ...             ...\n",
       "214         10    26313     2078           4.916\n",
       "215         10    25680      595           4.886\n",
       "216         10    26214     1907           4.863\n",
       "217         10    26358     2137           4.863\n",
       "218         10    27049     3910           4.857\n",
       "\n",
       "[219 rows x 4 columns]"
      ]
     },
     "execution_count": 29,
     "metadata": {},
     "output_type": "execute_result"
    }
   ],
   "source": [
    "top_movies.head(-1)"
   ]
  },
  {
   "cell_type": "code",
   "execution_count": 30,
   "id": "d6a74382",
   "metadata": {},
   "outputs": [
    {
     "name": "stderr",
     "output_type": "stream",
     "text": [
      "C:\\Users\\Ahmed\\AppData\\Local\\Temp\\ipykernel_18040\\4223146663.py:2: DeprecationWarning: DataFrameGroupBy.apply operated on the grouping columns. This behavior is deprecated, and in a future version of pandas the grouping columns will be excluded from the operation. Either pass `include_groups=False` to exclude the groupings or explicitly select the grouping columns after groupby to silence this warning.\n",
      "  top_movies_dict = top_movies.groupby('ClusterID').apply(\n"
     ]
    }
   ],
   "source": [
    "# Convert to dictionary format\n",
    "top_movies_dict = top_movies.groupby('ClusterID').apply(\n",
    "    lambda x: list(zip(x['MovieID'], x['adjusted_score']))\n",
    ").to_dict()"
   ]
  },
  {
   "cell_type": "code",
   "execution_count": 31,
   "id": "fcf71846",
   "metadata": {},
   "outputs": [
    {
     "name": "stdout",
     "output_type": "stream",
     "text": [
      "{0: [(1223, 5.432), (720, 5.4), (1148, 5.342), (745, 5.25), (3114, 5.165), (3000, 5.1), (1, 5.037), (2102, 4.971), (595, 4.897), (594, 4.883), (2018, 4.839), (596, 4.8), (1907, 4.8), (2137, 4.8), (2138, 4.8), (3429, 4.8), (3435, 4.783), (3089, 4.778), (3751, 4.773), (364, 4.768)], 1: [(904, 5.544), (903, 5.427), (3730, 5.378), (1284, 5.374), (1264, 5.36), (906, 5.333), (1950, 5.236), (913, 5.216), (2208, 5.2), (1252, 5.18), (1212, 5.172), (1269, 5.138), (1086, 5.0), (1617, 4.989), (123, 4.95), (924, 4.938), (950, 4.92), (800, 4.912), (911, 4.904), (931, 4.8)], 2: [(745, 5.64), (2857, 5.6), (720, 5.538), (1223, 5.52), (1148, 5.512), (2099, 5.314), (2810, 5.28), (1023, 5.236), (3000, 5.1), (1022, 5.061), (2102, 5.0), (3022, 5.0), (3114, 4.983), (1, 4.922), (741, 4.92), (2139, 4.9), (3034, 4.892), (926, 4.875), (2080, 4.832), (1192, 4.8)], 3: [(1148, 5.324), (741, 5.28), (1023, 5.28), (720, 5.187), (2761, 5.113), (3000, 5.1), (745, 5.061), (3429, 5.0), (1223, 4.982), (2857, 4.971), (594, 4.862), (3114, 4.855), (1274, 4.843), (1, 4.836), (2081, 4.781), (2700, 4.751), (2090, 4.729), (3034, 4.691), (595, 4.688), (3307, 4.682)], 4: [(1283, 5.538), (714, 5.4), (3030, 5.4), (599, 5.314), (1209, 5.314), (1201, 5.234), (2951, 5.111), (1266, 5.085), (553, 5.0), (3365, 5.0), (3634, 5.0), (3801, 5.0), (3671, 4.988), (3037, 4.971), (1304, 4.954), (590, 4.894), (2921, 4.8), (2922, 4.8), (3681, 4.8), (955, 4.786)], 5: [(720, 5.614), (745, 5.475), (1148, 5.335), (1223, 5.307), (3000, 5.088), (1, 5.01), (3114, 5.006), (2905, 5.0), (3429, 4.971), (741, 4.875), (1274, 4.857), (3751, 4.826), (1392, 4.8), (2899, 4.8), (3096, 4.8), (1022, 4.767), (2761, 4.748), (594, 4.731), (2099, 4.729), (595, 4.705)], 6: [(919, 5.258), (1066, 5.22), (899, 5.126), (2300, 5.124), (1288, 5.064), (914, 5.018), (907, 4.96), (2925, 4.833), (1947, 4.817), (595, 4.8), (918, 4.8), (1035, 4.785), (3549, 4.757), (3545, 4.755), (2303, 4.749), (1688, 4.725), (2565, 4.697), (1028, 4.674), (945, 4.674), (2019, 4.652)], 7: [(858, 5.509), (50, 5.421), (1221, 5.284), (3435, 5.157), (608, 5.151), (1945, 5.134), (1234, 5.131), (2692, 5.089), (1213, 5.088), (296, 5.083), (1248, 5.071), (3364, 5.057), (293, 5.055), (555, 5.044), (47, 5.022), (1953, 5.0), (1089, 4.976), (910, 4.955), (1617, 4.953), (2194, 4.886)], 8: [(50, 5.571), (858, 5.501), (1221, 5.332), (1945, 5.322), (1260, 5.309), (910, 5.308), (1213, 5.307), (296, 5.255), (3435, 5.239), (942, 5.229), (1234, 5.18), (2692, 5.176), (2917, 5.175), (3521, 5.143), (1617, 5.138), (1089, 5.111), (1084, 5.088), (608, 5.081), (391, 5.04), (3265, 5.04)], 9: [(3030, 5.28), (3368, 5.2), (3508, 5.151), (1201, 5.149), (599, 5.131), (1304, 5.09), (1266, 4.961), (2951, 4.92), (3037, 4.917), (3467, 4.9), (3487, 4.892), (2921, 4.877), (3074, 4.867), (2905, 4.857), (1283, 4.855), (3671, 4.825), (326, 4.8), (553, 4.8), (2922, 4.8), (3311, 4.8)], 10: [(3429, 5.85), (745, 5.673), (1223, 5.533), (720, 5.4), (1, 5.357), (1148, 5.338), (3114, 5.318), (1023, 5.314), (2761, 5.28), (3745, 5.04), (2096, 5.031), (594, 5.025), (2138, 4.95), (1022, 4.929), (2078, 4.916), (595, 4.886), (1907, 4.863), (2137, 4.863), (3910, 4.857), (2018, 4.85)]}\n"
     ]
    }
   ],
   "source": [
    "print(top_movies_dict)"
   ]
  },
  {
   "cell_type": "code",
   "execution_count": 4,
   "id": "198e791f",
   "metadata": {},
   "outputs": [],
   "source": [
    "top_movies = get_top_movies_for_cluster(\n",
    "    ratings_df= ratings_df,\n",
    "    clusters_df=clusters_df,\n",
    "    movies_df=movies_df,\n",
    "    cluster_genres_df=cluster_genres_df,\n",
    ")"
   ]
  },
  {
   "cell_type": "code",
   "execution_count": 5,
   "id": "b4d5387a",
   "metadata": {},
   "outputs": [
    {
     "name": "stdout",
     "output_type": "stream",
     "text": [
      "{0: [(1223, 5.432), (720, 5.4), (1148, 5.342), (745, 5.25), (3114, 5.165), (3000, 5.1), (1, 5.037), (2102, 4.971), (595, 4.897), (594, 4.883), (2018, 4.839), (596, 4.8), (1907, 4.8), (2137, 4.8), (2138, 4.8), (3429, 4.8), (3435, 4.783), (3089, 4.778), (3751, 4.773), (364, 4.768)], 1: [(904, 5.544), (903, 5.427), (3730, 5.378), (1284, 5.374), (1264, 5.36), (906, 5.333), (1950, 5.236), (913, 5.216), (2208, 5.2), (1252, 5.18), (1212, 5.172), (1269, 5.138), (1086, 5.0), (1617, 4.989), (123, 4.95), (924, 4.938), (950, 4.92), (800, 4.912), (911, 4.904), (931, 4.8)], 2: [(745, 5.64), (2857, 5.6), (720, 5.538), (1223, 5.52), (1148, 5.512), (2099, 5.314), (2810, 5.28), (1023, 5.236), (3000, 5.1), (1022, 5.061), (2102, 5.0), (3022, 5.0), (3114, 4.983), (1, 4.922), (741, 4.92), (2139, 4.9), (3034, 4.892), (926, 4.875), (2080, 4.832), (1192, 4.8)], 3: [(1148, 5.324), (741, 5.28), (1023, 5.28), (720, 5.187), (2761, 5.113), (3000, 5.1), (745, 5.061), (3429, 5.0), (1223, 4.982), (2857, 4.971), (594, 4.862), (3114, 4.855), (1274, 4.843), (1, 4.836), (2081, 4.781), (2700, 4.751), (2090, 4.729), (3034, 4.691), (595, 4.688), (3307, 4.682)], 4: [(1283, 5.538), (714, 5.4), (3030, 5.4), (599, 5.314), (1209, 5.314), (1201, 5.234), (2951, 5.111), (1266, 5.085), (553, 5.0), (3365, 5.0), (3634, 5.0), (3801, 5.0), (3671, 4.988), (3037, 4.971), (1304, 4.954), (590, 4.894), (2921, 4.8), (2922, 4.8), (3681, 4.8), (955, 4.786)], 5: [(720, 5.614), (745, 5.475), (1148, 5.335), (1223, 5.307), (3000, 5.088), (1, 5.01), (3114, 5.006), (2905, 5.0), (3429, 4.971), (741, 4.875), (1274, 4.857), (3751, 4.826), (1392, 4.8), (2899, 4.8), (3096, 4.8), (1022, 4.767), (2761, 4.748), (594, 4.731), (2099, 4.729), (595, 4.705)], 6: [(919, 5.258), (1066, 5.22), (899, 5.126), (2300, 5.124), (1288, 5.064), (914, 5.018), (907, 4.96), (2925, 4.833), (1947, 4.817), (595, 4.8), (918, 4.8), (1035, 4.785), (3549, 4.757), (3545, 4.755), (2303, 4.749), (1688, 4.725), (2565, 4.697), (1028, 4.674), (945, 4.674), (2019, 4.652)], 7: [(858, 5.509), (50, 5.421), (1221, 5.284), (3435, 5.157), (608, 5.151), (1945, 5.134), (1234, 5.131), (2692, 5.089), (1213, 5.088), (296, 5.083), (1248, 5.071), (3364, 5.057), (293, 5.055), (555, 5.044), (47, 5.022), (1953, 5.0), (1089, 4.976), (910, 4.955), (1617, 4.953), (2194, 4.886)], 8: [(50, 5.571), (858, 5.501), (1221, 5.332), (1945, 5.322), (1260, 5.309), (910, 5.308), (1213, 5.307), (296, 5.255), (3435, 5.239), (942, 5.229), (1234, 5.18), (2692, 5.176), (2917, 5.175), (3521, 5.143), (1617, 5.138), (1089, 5.111), (1084, 5.088), (608, 5.081), (391, 5.04), (3265, 5.04)], 9: [(3030, 5.28), (3368, 5.2), (3508, 5.151), (1201, 5.149), (599, 5.131), (1304, 5.09), (1266, 4.961), (2951, 4.92), (3037, 4.917), (3467, 4.9), (3487, 4.892), (2921, 4.877), (3074, 4.867), (2905, 4.857), (1283, 4.855), (3671, 4.825), (326, 4.8), (553, 4.8), (2922, 4.8), (3311, 4.8)], 10: [(3429, 5.85), (745, 5.673), (1223, 5.533), (720, 5.4), (1, 5.357), (1148, 5.338), (3114, 5.318), (1023, 5.314), (2761, 5.28), (3745, 5.04), (2096, 5.031), (594, 5.025), (2138, 4.95), (1022, 4.929), (2078, 4.916), (595, 4.886), (1907, 4.863), (2137, 4.863), (3910, 4.857), (2018, 4.85)]}\n"
     ]
    }
   ],
   "source": [
    "print(top_movies)"
   ]
  },
  {
   "cell_type": "markdown",
   "id": "fe5acd01",
   "metadata": {},
   "source": [
    "# Function 3 Validation"
   ]
  },
  {
   "cell_type": "code",
   "execution_count": 6,
   "id": "c94ded51",
   "metadata": {},
   "outputs": [],
   "source": [
    "from hybrid_recommender_rework import get_top_movies_for_cluster\n",
    "\n",
    "ratings_df = pd.read_csv(r\"ml_data/ratings_1m.csv\")\n",
    "clusters_df = pd.read_csv(r\"ml_data/user_clusters.csv\")\n",
    "cluster_genres_df = pd.read_csv(r\"ml_data/cluster_genres.csv\")\n",
    "movies_df = pd.read_csv(r\"ml_data/movies_1m.csv\")\n",
    "cluster_details_df = pd.read_csv(r\"ml_data/cluster_details.csv\")"
   ]
  },
  {
   "cell_type": "code",
   "execution_count": 3,
   "id": "bd2baf94",
   "metadata": {},
   "outputs": [],
   "source": [
    "top_movies = get_top_movies_for_cluster(\n",
    "    ratings_df= ratings_df,\n",
    "    clusters_df=clusters_df,\n",
    "    movies_df=movies_df,\n",
    "    cluster_genres_df=cluster_genres_df,\n",
    ")"
   ]
  },
  {
   "cell_type": "code",
   "execution_count": 4,
   "id": "28c16fcc",
   "metadata": {},
   "outputs": [
    {
     "name": "stdout",
     "output_type": "stream",
     "text": [
      "{0: [(1223, 5.432), (720, 5.4), (1148, 5.342), (745, 5.25), (3114, 5.165), (3000, 5.1), (1, 5.037), (2102, 4.971), (595, 4.897), (594, 4.883), (2018, 4.839), (596, 4.8), (1907, 4.8), (2137, 4.8), (2138, 4.8), (3429, 4.8), (3435, 4.783), (3089, 4.778), (3751, 4.773), (364, 4.768)], 1: [(904, 5.544), (903, 5.427), (3730, 5.378), (1284, 5.374), (1264, 5.36), (906, 5.333), (1950, 5.236), (913, 5.216), (2208, 5.2), (1252, 5.18), (1212, 5.172), (1269, 5.138), (1086, 5.0), (1617, 4.989), (123, 4.95), (924, 4.938), (950, 4.92), (800, 4.912), (911, 4.904), (931, 4.8)], 2: [(745, 5.64), (2857, 5.6), (720, 5.538), (1223, 5.52), (1148, 5.512), (2099, 5.314), (2810, 5.28), (1023, 5.236), (3000, 5.1), (1022, 5.061), (2102, 5.0), (3022, 5.0), (3114, 4.983), (1, 4.922), (741, 4.92), (2139, 4.9), (3034, 4.892), (926, 4.875), (2080, 4.832), (1192, 4.8)], 3: [(1148, 5.324), (741, 5.28), (1023, 5.28), (720, 5.187), (2761, 5.113), (3000, 5.1), (745, 5.061), (3429, 5.0), (1223, 4.982), (2857, 4.971), (594, 4.862), (3114, 4.855), (1274, 4.843), (1, 4.836), (2081, 4.781), (2700, 4.751), (2090, 4.729), (3034, 4.691), (595, 4.688), (3307, 4.682)], 4: [(1283, 5.538), (714, 5.4), (3030, 5.4), (599, 5.314), (1209, 5.314), (1201, 5.234), (2951, 5.111), (1266, 5.085), (553, 5.0), (3365, 5.0), (3634, 5.0), (3801, 5.0), (3671, 4.988), (3037, 4.971), (1304, 4.954), (590, 4.894), (2921, 4.8), (2922, 4.8), (3681, 4.8), (955, 4.786)], 5: [(720, 5.614), (745, 5.475), (1148, 5.335), (1223, 5.307), (3000, 5.088), (1, 5.01), (3114, 5.006), (2905, 5.0), (3429, 4.971), (741, 4.875), (1274, 4.857), (3751, 4.826), (1392, 4.8), (2899, 4.8), (3096, 4.8), (1022, 4.767), (2761, 4.748), (594, 4.731), (2099, 4.729), (595, 4.705)], 6: [(919, 5.258), (1066, 5.22), (899, 5.126), (2300, 5.124), (1288, 5.064), (914, 5.018), (907, 4.96), (2925, 4.833), (1947, 4.817), (595, 4.8), (918, 4.8), (1035, 4.785), (3549, 4.757), (3545, 4.755), (2303, 4.749), (1688, 4.725), (2565, 4.697), (1028, 4.674), (945, 4.674), (2019, 4.652)], 7: [(858, 5.509), (50, 5.421), (1221, 5.284), (3435, 5.157), (608, 5.151), (1945, 5.134), (1234, 5.131), (2692, 5.089), (1213, 5.088), (296, 5.083), (1248, 5.071), (3364, 5.057), (293, 5.055), (555, 5.044), (47, 5.022), (1953, 5.0), (1089, 4.976), (910, 4.955), (1617, 4.953), (2194, 4.886)], 8: [(50, 5.571), (858, 5.501), (1221, 5.332), (1945, 5.322), (1260, 5.309), (910, 5.308), (1213, 5.307), (296, 5.255), (3435, 5.239), (942, 5.229), (1234, 5.18), (2692, 5.176), (2917, 5.175), (3521, 5.143), (1617, 5.138), (1089, 5.111), (1084, 5.088), (608, 5.081), (391, 5.04), (3265, 5.04)], 9: [(3030, 5.28), (3368, 5.2), (3508, 5.151), (1201, 5.149), (599, 5.131), (1304, 5.09), (1266, 4.961), (2951, 4.92), (3037, 4.917), (3467, 4.9), (3487, 4.892), (2921, 4.877), (3074, 4.867), (2905, 4.857), (1283, 4.855), (3671, 4.825), (326, 4.8), (553, 4.8), (2922, 4.8), (3311, 4.8)], 10: [(3429, 5.85), (745, 5.673), (1223, 5.533), (720, 5.4), (1, 5.357), (1148, 5.338), (3114, 5.318), (1023, 5.314), (2761, 5.28), (3745, 5.04), (2096, 5.031), (594, 5.025), (2138, 4.95), (1022, 4.929), (2078, 4.916), (595, 4.886), (1907, 4.863), (2137, 4.863), (3910, 4.857), (2018, 4.85)]}\n"
     ]
    }
   ],
   "source": [
    "print(top_movies)"
   ]
  },
  {
   "cell_type": "code",
   "execution_count": null,
   "id": "d4e7dd40",
   "metadata": {},
   "outputs": [],
   "source": [
    "\"\"\"\n",
    "Recommend movies to a new user based on their demographic information by mapping them to the most appropriate cluster.\n",
    "\n",
    "Parameters:\n",
    "- user_gender (str): Gender of the new user ('Male' or 'Female').\n",
    "- user_age (int): Age of the new user.\n",
    "- user_profession (str): Profession of the new user.\n",
    "- clusters_df (pd.DataFrame): DataFrame with columns 'ClusterID', 'Male/Female', 'Average Age', 'Profession'.\n",
    "- top_movies_dict (dict): Dictionary mapping 'ClusterID' to a list of top movies [(movie_id, score), ...].\n",
    "- gender_weight (int): Weight for gender mismatch in distance calculation (default=100).\n",
    "- profession_weight (int): Weight for profession mismatch in distance calculation (default=10).\n",
    "\n",
    "Returns:\n",
    "- list: List of recommended movie IDs.\n",
    "\"\"\""
   ]
  },
  {
   "cell_type": "code",
   "execution_count": 7,
   "id": "f249b2de",
   "metadata": {},
   "outputs": [],
   "source": [
    "#user_gender = 'Male'\n",
    "user_age = 30\n",
    "#user_profession = 0\n",
    "clusters_df = cluster_details_df\n",
    "top_movies_dict = top_movies\n",
    "gender_weight=100\n",
    "profession_weight=10"
   ]
  },
  {
   "cell_type": "code",
   "execution_count": null,
   "id": "8429ad9d",
   "metadata": {},
   "outputs": [],
   "source": [
    "### To do:\n",
    " # Calculate mismatch and difference columns\n",
    " #   clusters_df['gender_mismatch'] = (clusters_df['Male/Female'] != user_gender).astype(int)\n",
    " #   clusters_df['age_diff'] = abs(clusters_df['Average Age'] - user_age)\n",
    " #   clusters_df['profession_mismatch'] = (clusters_df['Profession'] != user_profession).astype(int)\n",
    "    \n",
    " #   # Calculate distance with gender as the most crucial factor\n",
    " #   clusters_df['distance'] = (gender_weight * clusters_df['gender_mismatch'] +\n",
    " #                              clusters_df['age_diff'] +\n",
    " #                              profession_weight * clusters_df['profession_mismatch'])"
   ]
  },
  {
   "cell_type": "code",
   "execution_count": null,
   "id": "8b9e8fe6",
   "metadata": {},
   "outputs": [],
   "source": [
    "clusters_df['age_diff'] = abs(clusters_df['Average Age Group in Cluster'] - user_age)"
   ]
  },
  {
   "cell_type": "code",
   "execution_count": 10,
   "id": "f41b0b9f",
   "metadata": {},
   "outputs": [],
   "source": [
    "# Calculate distance with gender as the most crucial factor\n",
    "clusters_df['distance'] = (clusters_df['age_diff'])"
   ]
  },
  {
   "cell_type": "code",
   "execution_count": 11,
   "id": "81254ec5",
   "metadata": {},
   "outputs": [],
   "source": [
    "# Find the cluster with the smallest distance\n",
    "best_cluster = clusters_df.loc[clusters_df['distance'].idxmin()]\n",
    "best_cluster_id = best_cluster['ClusterID']"
   ]
  },
  {
   "cell_type": "code",
   "execution_count": 12,
   "id": "8d26ff5a",
   "metadata": {},
   "outputs": [
    {
     "name": "stdout",
     "output_type": "stream",
     "text": [
      "Best cluster for user: 10\n"
     ]
    }
   ],
   "source": [
    "print(f\"Best cluster for user: {best_cluster_id}\")"
   ]
  },
  {
   "cell_type": "code",
   "execution_count": 13,
   "id": "b0623522",
   "metadata": {},
   "outputs": [],
   "source": [
    "# Get the top movies for the best cluster\n",
    "recommendations = [movie_id for movie_id, score in top_movies_dict[best_cluster_id]]"
   ]
  },
  {
   "cell_type": "code",
   "execution_count": 14,
   "id": "0e1c25ff",
   "metadata": {},
   "outputs": [
    {
     "name": "stdout",
     "output_type": "stream",
     "text": [
      "Best recommendations for user: [3429, 745, 1223, 720, 1, 1148, 3114, 1023, 2761, 3745, 2096, 594, 2138, 1022, 2078, 595, 1907, 2137, 3910, 2018]\n"
     ]
    }
   ],
   "source": [
    "print(f\"Best recommendations for user: {recommendations}\")"
   ]
  },
  {
   "cell_type": "markdown",
   "id": "a563f0c1",
   "metadata": {},
   "source": [
    "# Alternative Function 3 Validation"
   ]
  },
  {
   "cell_type": "code",
   "execution_count": 131,
   "id": "1bd6bc88",
   "metadata": {},
   "outputs": [],
   "source": [
    "def parse_distribution(dist_str):\n",
    "    \"\"\"Parse distribution string into proportions (e.g., 'M:168, F:72' -> {'M': 0.7, 'F': 0.3}).\"\"\"\n",
    "    counts = {k.strip(): int(v) for k, v in (pair.split(':') for pair in dist_str.split(','))}\n",
    "    total = sum(counts.values())\n",
    "    return {k: v / total for k, v in counts.items()}"
   ]
  },
  {
   "cell_type": "code",
   "execution_count": 132,
   "id": "5c82237d",
   "metadata": {},
   "outputs": [],
   "source": [
    "from hybrid_recommender_rework import get_top_movies_for_cluster\n",
    "\n",
    "ratings_df = pd.read_csv(r\"ml_data/ratings_1m.csv\")\n",
    "clusters_users_df = pd.read_csv(r\"ml_data/user_clusters.csv\")\n",
    "cluster_genres_df = pd.read_csv(r\"ml_data/cluster_genres.csv\")\n",
    "movies_df = pd.read_csv(r\"ml_data/movies_1m.csv\")\n",
    "clusters_df = pd.read_csv(r\"ml_data/cluster_details.csv\")"
   ]
  },
  {
   "cell_type": "code",
   "execution_count": 133,
   "id": "8e64eefe",
   "metadata": {},
   "outputs": [],
   "source": [
    "user_gender = 'Male'\n",
    "user_age = 31\n",
    "user_profession = 'programmer'"
   ]
  },
  {
   "cell_type": "code",
   "execution_count": 134,
   "id": "c9369974",
   "metadata": {},
   "outputs": [
    {
     "name": "stdout",
     "output_type": "stream",
     "text": [
      "{0: [(1223, 5.432), (720, 5.4), (1148, 5.342), (745, 5.25), (3114, 5.165), (3000, 5.1), (1, 5.037), (2102, 4.971), (595, 4.897), (594, 4.883), (2018, 4.839), (596, 4.8), (1907, 4.8), (2137, 4.8), (2138, 4.8), (3429, 4.8), (3435, 4.783), (3089, 4.778), (3751, 4.773), (364, 4.768)], 1: [(904, 5.544), (903, 5.427), (3730, 5.378), (1284, 5.374), (1264, 5.36), (906, 5.333), (1950, 5.236), (913, 5.216), (2208, 5.2), (1252, 5.18), (1212, 5.172), (1269, 5.138), (1086, 5.0), (1617, 4.989), (123, 4.95), (924, 4.938), (950, 4.92), (800, 4.912), (911, 4.904), (931, 4.8)], 2: [(745, 5.64), (2857, 5.6), (720, 5.538), (1223, 5.52), (1148, 5.512), (2099, 5.314), (2810, 5.28), (1023, 5.236), (3000, 5.1), (1022, 5.061), (2102, 5.0), (3022, 5.0), (3114, 4.983), (1, 4.922), (741, 4.92), (2139, 4.9), (3034, 4.892), (926, 4.875), (2080, 4.832), (1192, 4.8)], 3: [(1148, 5.324), (741, 5.28), (1023, 5.28), (720, 5.187), (2761, 5.113), (3000, 5.1), (745, 5.061), (3429, 5.0), (1223, 4.982), (2857, 4.971), (594, 4.862), (3114, 4.855), (1274, 4.843), (1, 4.836), (2081, 4.781), (2700, 4.751), (2090, 4.729), (3034, 4.691), (595, 4.688), (3307, 4.682)], 4: [(1283, 5.538), (714, 5.4), (3030, 5.4), (599, 5.314), (1209, 5.314), (1201, 5.234), (2951, 5.111), (1266, 5.085), (553, 5.0), (3365, 5.0), (3634, 5.0), (3801, 5.0), (3671, 4.988), (3037, 4.971), (1304, 4.954), (590, 4.894), (2921, 4.8), (2922, 4.8), (3681, 4.8), (955, 4.786)], 5: [(720, 5.614), (745, 5.475), (1148, 5.335), (1223, 5.307), (3000, 5.088), (1, 5.01), (3114, 5.006), (2905, 5.0), (3429, 4.971), (741, 4.875), (1274, 4.857), (3751, 4.826), (1392, 4.8), (2899, 4.8), (3096, 4.8), (1022, 4.767), (2761, 4.748), (594, 4.731), (2099, 4.729), (595, 4.705)], 6: [(919, 5.258), (1066, 5.22), (899, 5.126), (2300, 5.124), (1288, 5.064), (914, 5.018), (907, 4.96), (2925, 4.833), (1947, 4.817), (595, 4.8), (918, 4.8), (1035, 4.785), (3549, 4.757), (3545, 4.755), (2303, 4.749), (1688, 4.725), (2565, 4.697), (1028, 4.674), (945, 4.674), (2019, 4.652)], 7: [(858, 5.509), (50, 5.421), (1221, 5.284), (3435, 5.157), (608, 5.151), (1945, 5.134), (1234, 5.131), (2692, 5.089), (1213, 5.088), (296, 5.083), (1248, 5.071), (3364, 5.057), (293, 5.055), (555, 5.044), (47, 5.022), (1953, 5.0), (1089, 4.976), (910, 4.955), (1617, 4.953), (2194, 4.886)], 8: [(50, 5.571), (858, 5.501), (1221, 5.332), (1945, 5.322), (1260, 5.309), (910, 5.308), (1213, 5.307), (296, 5.255), (3435, 5.239), (942, 5.229), (1234, 5.18), (2692, 5.176), (2917, 5.175), (3521, 5.143), (1617, 5.138), (1089, 5.111), (1084, 5.088), (608, 5.081), (391, 5.04), (3265, 5.04)], 9: [(3030, 5.28), (3368, 5.2), (3508, 5.151), (1201, 5.149), (599, 5.131), (1304, 5.09), (1266, 4.961), (2951, 4.92), (3037, 4.917), (3467, 4.9), (3487, 4.892), (2921, 4.877), (3074, 4.867), (2905, 4.857), (1283, 4.855), (3671, 4.825), (326, 4.8), (553, 4.8), (2922, 4.8), (3311, 4.8)], 10: [(3429, 5.85), (745, 5.673), (1223, 5.533), (720, 5.4), (1, 5.357), (1148, 5.338), (3114, 5.318), (1023, 5.314), (2761, 5.28), (3745, 5.04), (2096, 5.031), (594, 5.025), (2138, 4.95), (1022, 4.929), (2078, 4.916), (595, 4.886), (1907, 4.863), (2137, 4.863), (3910, 4.857), (2018, 4.85)]}\n"
     ]
    }
   ],
   "source": [
    "top_movies = get_top_movies_for_cluster(\n",
    "    ratings_df= ratings_df,\n",
    "    clusters_df=clusters_users_df,\n",
    "    movies_df=movies_df,\n",
    "    cluster_genres_df=cluster_genres_df,\n",
    ")\n",
    "print(top_movies)"
   ]
  },
  {
   "cell_type": "code",
   "execution_count": 135,
   "id": "068ee95d",
   "metadata": {},
   "outputs": [
    {
     "data": {
      "text/plain": [
       "\"\\nAssign a new user to a cluster and recommend movies using bias-based scoring.\\n\\nParameters:\\n- user_gender (str): 'Male' or 'Female'.\\n- user_age (int): User's age.\\n- user_profession (str): User's profession.\\n- clusters_df (pd.DataFrame): Cluster data with distribution columns.\\n- top_movies_dict (dict): {cluster_id: [(movie_id, score), ...]}.\\n\\nReturns:\\n- list: Recommended movie IDs.\\n\""
      ]
     },
     "execution_count": 135,
     "metadata": {},
     "output_type": "execute_result"
    }
   ],
   "source": [
    "\"\"\"\n",
    "Assign a new user to a cluster and recommend movies using bias-based scoring.\n",
    "\n",
    "Parameters:\n",
    "- user_gender (str): 'Male' or 'Female'.\n",
    "- user_age (int): User's age.\n",
    "- user_profession (str): User's profession.\n",
    "- clusters_df (pd.DataFrame): Cluster data with distribution columns.\n",
    "- top_movies_dict (dict): {cluster_id: [(movie_id, score), ...]}.\n",
    "\n",
    "Returns:\n",
    "- list: Recommended movie IDs.\n",
    "\"\"\""
   ]
  },
  {
   "cell_type": "code",
   "execution_count": 136,
   "id": "3edd11a4",
   "metadata": {},
   "outputs": [],
   "source": [
    "# Define age groups\n",
    "age_groups = {\n",
    "    '18-25': (18, 25),\n",
    "    '26-35': (26, 35),\n",
    "    '36-45': (36, 45),\n",
    "    '46-55': (46, 55),\n",
    "    '56+': (56, 100)\n",
    "}"
   ]
  },
  {
   "cell_type": "code",
   "execution_count": 137,
   "id": "9b6bc1b4",
   "metadata": {},
   "outputs": [],
   "source": [
    "user_age_group = next(group for group, (low, high) in age_groups.items() if low <= user_age <= high)"
   ]
  },
  {
   "cell_type": "code",
   "execution_count": 138,
   "id": "f5e972f1",
   "metadata": {},
   "outputs": [],
   "source": [
    "# Parse distributions into proportions\n",
    "clusters_df['gender_props'] = clusters_df['Male-Female Distribution'].apply(parse_distribution)\n",
    "#clusters_df['age_props'] = clusters_df['Age Group Distribution'].apply(parse_distribution)\n",
    "clusters_df['occupation_props'] = clusters_df['Occupation Ranking by Number'].apply(parse_distribution)"
   ]
  },
  {
   "cell_type": "code",
   "execution_count": 139,
   "id": "ff45bb98",
   "metadata": {},
   "outputs": [],
   "source": [
    "# Calculate biases\n",
    "clusters_df['gender_bias'] = clusters_df['gender_props'].apply(\n",
    "    lambda props: props.get(user_gender[0], 0) - 0.5  # M or F, baseline 50%\n",
    ")\n",
    "#clusters_df['age_proportion'] = clusters_df['age_props'].apply(\n",
    "#    lambda props: props.get(user_age_group, 0)\n",
    "#)\n",
    "clusters_df['profession_bias'] = clusters_df['occupation_props'].apply(\n",
    "    lambda props: props.get(user_profession, 0) - 0.2  # Baseline 20% assuming 20 professions\n",
    ")"
   ]
  },
  {
   "cell_type": "code",
   "execution_count": 140,
   "id": "32dc7b08",
   "metadata": {},
   "outputs": [],
   "source": [
    "# Compute final score: Adjust age proportion with gender bias, add weighted profession bias\n",
    "profession_weight = 0.2  # Profession has less influence\n",
    "clusters_df['score'] = ((1 + clusters_df['gender_bias'])) + \\\n",
    "                        (profession_weight * clusters_df['profession_bias'])"
   ]
  },
  {
   "cell_type": "code",
   "execution_count": 141,
   "id": "2315db24",
   "metadata": {},
   "outputs": [],
   "source": [
    "# Select cluster with highest score\n",
    "best_cluster = clusters_df.loc[clusters_df['score'].idxmax()]\n",
    "best_cluster_id = best_cluster['ClusterID']"
   ]
  },
  {
   "cell_type": "code",
   "execution_count": 142,
   "id": "50ca68cd",
   "metadata": {},
   "outputs": [
    {
     "name": "stdout",
     "output_type": "stream",
     "text": [
      "Best cluster for user: 4\n"
     ]
    }
   ],
   "source": [
    "print(f\"Best cluster for user: {best_cluster_id}\")"
   ]
  },
  {
   "cell_type": "markdown",
   "id": "0547d49f",
   "metadata": {},
   "source": [
    "# .py Function 3 Testing"
   ]
  },
  {
   "cell_type": "code",
   "execution_count": null,
   "id": "0e1a7c6a",
   "metadata": {},
   "outputs": [],
   "source": [
    "from hybrid_recommender_rework import recommend_for_new_user"
   ]
  },
  {
   "cell_type": "code",
   "execution_count": 137,
   "id": "db9a0f0c",
   "metadata": {},
   "outputs": [],
   "source": [
    "from hybrid_recommender_rework import get_top_movies_for_cluster\n",
    "\n",
    "ratings_df = pd.read_csv(r\"ml_data/ratings_1m.csv\")\n",
    "clusters_users_df = pd.read_csv(r\"ml_data/user_clusters.csv\")\n",
    "cluster_genres_df = pd.read_csv(r\"ml_data/cluster_genres.csv\")\n",
    "movies_df = pd.read_csv(r\"ml_data/movies_1m.csv\")\n",
    "clusters_df = pd.read_csv(r\"ml_data/cluster_details.csv\")"
   ]
  },
  {
   "cell_type": "code",
   "execution_count": 134,
   "id": "a7fdb32a",
   "metadata": {},
   "outputs": [],
   "source": [
    "user_gender = 'Male'\n",
    "user_age = 31\n",
    "user_profession = 'programmer'"
   ]
  },
  {
   "cell_type": "code",
   "execution_count": 138,
   "id": "b19287b6",
   "metadata": {},
   "outputs": [
    {
     "name": "stdout",
     "output_type": "stream",
     "text": [
      "{0: [(1223, 5.432), (720, 5.4), (1148, 5.342), (745, 5.25), (3114, 5.165), (3000, 5.1), (1, 5.037), (2102, 4.971), (595, 4.897), (594, 4.883), (2018, 4.839), (596, 4.8), (1907, 4.8), (2137, 4.8), (2138, 4.8), (3429, 4.8), (3435, 4.783), (3089, 4.778), (3751, 4.773), (364, 4.768)], 1: [(904, 5.544), (903, 5.427), (3730, 5.378), (1284, 5.374), (1264, 5.36), (906, 5.333), (1950, 5.236), (913, 5.216), (2208, 5.2), (1252, 5.18), (1212, 5.172), (1269, 5.138), (1086, 5.0), (1617, 4.989), (123, 4.95), (924, 4.938), (950, 4.92), (800, 4.912), (911, 4.904), (931, 4.8)], 2: [(745, 5.64), (2857, 5.6), (720, 5.538), (1223, 5.52), (1148, 5.512), (2099, 5.314), (2810, 5.28), (1023, 5.236), (3000, 5.1), (1022, 5.061), (2102, 5.0), (3022, 5.0), (3114, 4.983), (1, 4.922), (741, 4.92), (2139, 4.9), (3034, 4.892), (926, 4.875), (2080, 4.832), (1192, 4.8)], 3: [(1148, 5.324), (741, 5.28), (1023, 5.28), (720, 5.187), (2761, 5.113), (3000, 5.1), (745, 5.061), (3429, 5.0), (1223, 4.982), (2857, 4.971), (594, 4.862), (3114, 4.855), (1274, 4.843), (1, 4.836), (2081, 4.781), (2700, 4.751), (2090, 4.729), (3034, 4.691), (595, 4.688), (3307, 4.682)], 4: [(1283, 5.538), (714, 5.4), (3030, 5.4), (599, 5.314), (1209, 5.314), (1201, 5.234), (2951, 5.111), (1266, 5.085), (553, 5.0), (3365, 5.0), (3634, 5.0), (3801, 5.0), (3671, 4.988), (3037, 4.971), (1304, 4.954), (590, 4.894), (2921, 4.8), (2922, 4.8), (3681, 4.8), (955, 4.786)], 5: [(720, 5.614), (745, 5.475), (1148, 5.335), (1223, 5.307), (3000, 5.088), (1, 5.01), (3114, 5.006), (2905, 5.0), (3429, 4.971), (741, 4.875), (1274, 4.857), (3751, 4.826), (1392, 4.8), (2899, 4.8), (3096, 4.8), (1022, 4.767), (2761, 4.748), (594, 4.731), (2099, 4.729), (595, 4.705)], 6: [(919, 5.258), (1066, 5.22), (899, 5.126), (2300, 5.124), (1288, 5.064), (914, 5.018), (907, 4.96), (2925, 4.833), (1947, 4.817), (595, 4.8), (918, 4.8), (1035, 4.785), (3549, 4.757), (3545, 4.755), (2303, 4.749), (1688, 4.725), (2565, 4.697), (1028, 4.674), (945, 4.674), (2019, 4.652)], 7: [(858, 5.509), (50, 5.421), (1221, 5.284), (3435, 5.157), (608, 5.151), (1945, 5.134), (1234, 5.131), (2692, 5.089), (1213, 5.088), (296, 5.083), (1248, 5.071), (3364, 5.057), (293, 5.055), (555, 5.044), (47, 5.022), (1953, 5.0), (1089, 4.976), (910, 4.955), (1617, 4.953), (2194, 4.886)], 8: [(50, 5.571), (858, 5.501), (1221, 5.332), (1945, 5.322), (1260, 5.309), (910, 5.308), (1213, 5.307), (296, 5.255), (3435, 5.239), (942, 5.229), (1234, 5.18), (2692, 5.176), (2917, 5.175), (3521, 5.143), (1617, 5.138), (1089, 5.111), (1084, 5.088), (608, 5.081), (391, 5.04), (3265, 5.04)], 9: [(3030, 5.28), (3368, 5.2), (3508, 5.151), (1201, 5.149), (599, 5.131), (1304, 5.09), (1266, 4.961), (2951, 4.92), (3037, 4.917), (3467, 4.9), (3487, 4.892), (2921, 4.877), (3074, 4.867), (2905, 4.857), (1283, 4.855), (3671, 4.825), (326, 4.8), (553, 4.8), (2922, 4.8), (3311, 4.8)], 10: [(3429, 5.85), (745, 5.673), (1223, 5.533), (720, 5.4), (1, 5.357), (1148, 5.338), (3114, 5.318), (1023, 5.314), (2761, 5.28), (3745, 5.04), (2096, 5.031), (594, 5.025), (2138, 4.95), (1022, 4.929), (2078, 4.916), (595, 4.886), (1907, 4.863), (2137, 4.863), (3910, 4.857), (2018, 4.85)]}\n"
     ]
    }
   ],
   "source": [
    "top_movies = get_top_movies_for_cluster(\n",
    "    ratings_df= ratings_df,\n",
    "    clusters_df=clusters_users_df,\n",
    "    movies_df=movies_df,\n",
    "    cluster_genres_df=cluster_genres_df,\n",
    ")\n",
    "print(top_movies)"
   ]
  },
  {
   "cell_type": "code",
   "execution_count": 140,
   "id": "b00d2670",
   "metadata": {},
   "outputs": [],
   "source": [
    "test_list = recommend_for_new_user(user_gender, user_age, user_profession, clusters_df, top_movies)"
   ]
  },
  {
   "cell_type": "code",
   "execution_count": 142,
   "id": "3f628085",
   "metadata": {},
   "outputs": [
    {
     "name": "stdout",
     "output_type": "stream",
     "text": [
      "Test List for New User:\n",
      "MovieID: 1283, Title: High Noon (1952)\n",
      "MovieID: 714, Title: Dead Man (1995)\n",
      "MovieID: 3030, Title: Yojimbo (1961)\n",
      "MovieID: 599, Title: Wild Bunch, The (1969)\n",
      "MovieID: 1209, Title: Once Upon a Time in the West (1969)\n",
      "MovieID: 1201, Title: Good, The Bad and The Ugly, The (1966)\n",
      "MovieID: 2951, Title: Fistful of Dollars, A (1964)\n",
      "MovieID: 1266, Title: Unforgiven (1992)\n",
      "MovieID: 553, Title: Tombstone (1993)\n",
      "MovieID: 3365, Title: Searchers, The (1956)\n",
      "MovieID: 3634, Title: Seven Days in May (1964)\n",
      "MovieID: 3801, Title: Anatomy of a Murder (1959)\n",
      "MovieID: 3671, Title: Blazing Saddles (1974)\n",
      "MovieID: 3037, Title: Little Big Man (1970)\n",
      "MovieID: 1304, Title: Butch Cassidy and the Sundance Kid (1969)\n",
      "MovieID: 590, Title: Dances with Wolves (1990)\n",
      "MovieID: 2921, Title: High Plains Drifter (1972)\n",
      "MovieID: 2922, Title: Hang 'em High (1967)\n",
      "MovieID: 3681, Title: For a Few Dollars More (1965)\n",
      "MovieID: 955, Title: Bringing Up Baby (1938)\n"
     ]
    }
   ],
   "source": [
    "print(\"Test List for New User:\")\n",
    "for movie_id in test_list:\n",
    "    title = movies_df[movies_df['MovieID'] == movie_id]['Title'].values[0]\n",
    "    print(f\"MovieID: {movie_id}, Title: {title}\")"
   ]
  },
  {
   "cell_type": "markdown",
   "id": "4325c1ac",
   "metadata": {},
   "source": [
    "# Function 4 Validation"
   ]
  },
  {
   "cell_type": "code",
   "execution_count": 114,
   "id": "a00b6748",
   "metadata": {},
   "outputs": [],
   "source": [
    "from sklearn.preprocessing import MultiLabelBinarizer"
   ]
  },
  {
   "cell_type": "code",
   "execution_count": 115,
   "id": "3cb153ac",
   "metadata": {},
   "outputs": [],
   "source": [
    "new_movie_genres = ['Adventure', 'Fantasy']\n",
    "top_n = 10"
   ]
  },
  {
   "cell_type": "code",
   "execution_count": 116,
   "id": "c797854a",
   "metadata": {},
   "outputs": [],
   "source": [
    "# Load existing movie cluster data\n",
    "clusters_df = pd.read_csv('ml_data/movie_clusters.csv')  # Columns: MovieID, cluster\n",
    "\n",
    "# Load feature vectors for all movies (example: binary genre vectors)\n",
    "features_df = pd.read_csv('ml_data/movies_1m.csv')  # Columns: MovieID, feature1, feature2, ..."
   ]
  },
  {
   "cell_type": "code",
   "execution_count": 117,
   "id": "3e554cff",
   "metadata": {},
   "outputs": [],
   "source": [
    "# Merge cluster and feature data\n",
    "movie_data = pd.merge(clusters_df, features_df, on='MovieID')"
   ]
  },
  {
   "cell_type": "code",
   "execution_count": 118,
   "id": "3801ff3c",
   "metadata": {},
   "outputs": [],
   "source": [
    "# Extract and binarize genres\n",
    "mlb = MultiLabelBinarizer()\n",
    "movie_data['genres_list'] = movie_data['Genres'].str.split('|')\n",
    "genre_vectors = mlb.fit_transform(movie_data['genres_list'])\n",
    "movie_data = pd.concat([movie_data, pd.DataFrame(genre_vectors, columns=mlb.classes_)], axis=1)"
   ]
  },
  {
   "cell_type": "code",
   "execution_count": 119,
   "id": "c3d83662",
   "metadata": {},
   "outputs": [],
   "source": [
    "# Compute cluster centroids\n",
    "cluster_centroids = movie_data.groupby('cluster')[mlb.classes_].mean()"
   ]
  },
  {
   "cell_type": "code",
   "execution_count": 120,
   "id": "0b29560e",
   "metadata": {},
   "outputs": [],
   "source": [
    "\"\"\"\n",
    "Assign a new movie to a cluster based on genre similarity to centroids.\n",
    "\n",
    "Args:\n",
    "new_movie_genres (list): List of genres (e.g., ['Action', 'Comedy'])\n",
    "\n",
    "Returns:\n",
    "int: Assigned cluster ID\n",
    "\"\"\"\n",
    "# Create genre vector for the new movie\n",
    "new_movie_vec = mlb.transform([new_movie_genres])[0].reshape(1, -1)\n",
    "\n",
    "# Compute similarity to each cluster centroid\n",
    "similarities = cosine_similarity(new_movie_vec, cluster_centroids.values)\n",
    "\n",
    "# Assign to the cluster with the highest similarity\n",
    "assigned_cluster = cluster_centroids.index[np.argmax(similarities)]"
   ]
  },
  {
   "cell_type": "code",
   "execution_count": 121,
   "id": "7446ef0e",
   "metadata": {},
   "outputs": [],
   "source": [
    "\"\"\"\n",
    "Find the top N similar movies within the assigned cluster.\n",
    "\n",
    "Args:\n",
    "    new_movie_genres (list): List of genres (e.g., ['Action', 'Comedy'])\n",
    "    assigned_cluster (int): Cluster ID assigned to the new movie\n",
    "    top_n (int): Number of similar movies to return\n",
    "\n",
    "Returns:\n",
    "    list: List of (MovieID, similarity_score) tuples\n",
    "\"\"\"\n",
    "# Create genre vector for the new movie\n",
    "new_movie_vec = mlb.transform([new_movie_genres])[0].reshape(1, -1)\n",
    "\n",
    "# Filter movies in the assigned cluster\n",
    "cluster_movies = movie_data[movie_data['cluster'] == assigned_cluster]\n",
    "movie_ids = cluster_movies['MovieID'].values\n",
    "feature_vectors = cluster_movies[mlb.classes_].values\n",
    "\n",
    "# Compute similarities\n",
    "similarities = cosine_similarity(new_movie_vec, feature_vectors)[0]\n",
    "\n",
    "# Get top N similar movies\n",
    "top_indices = similarities.argsort()[-top_n:][::-1]\n",
    "top_similar = [(movie_ids[i], similarities[i]) for i in top_indices]"
   ]
  },
  {
   "cell_type": "code",
   "execution_count": 122,
   "id": "35180d65",
   "metadata": {},
   "outputs": [
    {
     "name": "stdout",
     "output_type": "stream",
     "text": [
      "Assigned Cluster: 49\n"
     ]
    }
   ],
   "source": [
    "print(f\"Assigned Cluster: {assigned_cluster}\")"
   ]
  },
  {
   "cell_type": "code",
   "execution_count": 123,
   "id": "da5ac491",
   "metadata": {},
   "outputs": [
    {
     "name": "stdout",
     "output_type": "stream",
     "text": [
      "Top 10 Similar Movies:\n",
      "MovieID: 3489, Title: Hook (1991), Similarity: 1.0000\n",
      "MovieID: 2173, Title: Navigator: A Mediaeval Odyssey, The (1988), Similarity: 0.8165\n",
      "MovieID: 1967, Title: Labyrinth (1986), Similarity: 0.8165\n",
      "MovieID: 3807, Title: Sinbad and the Eye of the Tiger (1977), Similarity: 0.5000\n",
      "MovieID: 2140, Title: Dark Crystal, The (1982), Similarity: 0.4082\n",
      "MovieID: 2872, Title: Excalibur (1981), Similarity: 0.3536\n",
      "MovieID: 3052, Title: Dogma (1999), Similarity: 0.0000\n",
      "MovieID: 1136, Title: Monty Python and the Holy Grail (1974), Similarity: 0.0000\n"
     ]
    }
   ],
   "source": [
    "print(\"Top 10 Similar Movies:\")\n",
    "for movie_id, similarity in top_similar:\n",
    "    title = features_df[features_df['MovieID'] == movie_id]['Title'].values[0]\n",
    "    print(f\"MovieID: {movie_id}, Title: {title}, Similarity: {similarity:.4f}\")"
   ]
  },
  {
   "cell_type": "markdown",
   "id": "d16c1f07",
   "metadata": {},
   "source": [
    "# Alternative Function 4 Validation"
   ]
  },
  {
   "cell_type": "code",
   "execution_count": 104,
   "id": "f2848ced",
   "metadata": {},
   "outputs": [],
   "source": [
    "from sklearn.preprocessing import MultiLabelBinarizer\n",
    "import faiss"
   ]
  },
  {
   "cell_type": "code",
   "execution_count": 105,
   "id": "08bb42bf",
   "metadata": {},
   "outputs": [],
   "source": [
    "new_movie_genres = ['Adventure', 'Fantasy']\n",
    "top_n = 10"
   ]
  },
  {
   "cell_type": "code",
   "execution_count": 106,
   "id": "9c5488db",
   "metadata": {},
   "outputs": [],
   "source": [
    "# Load movie data\n",
    "movies_df = pd.read_csv('ml_data/movies_1m.csv')\n",
    "\n",
    "# Load cluster assignments (assumed to exist from prior clustering)\n",
    "clusters_df = pd.read_csv('ml_data/movie_clusters.csv')  # Columns: MovieID, cluster\n",
    "\n",
    "# Merge data\n",
    "movie_data = pd.merge(movies_df, clusters_df, on='MovieID')"
   ]
  },
  {
   "cell_type": "code",
   "execution_count": 107,
   "id": "a0424833",
   "metadata": {},
   "outputs": [],
   "source": [
    "# Extract and binarize genres\n",
    "mlb = MultiLabelBinarizer()\n",
    "movie_data['genres_list'] = movie_data['Genres'].str.split('|')\n",
    "genre_vectors = mlb.fit_transform(movie_data['genres_list'])\n",
    "movie_data = pd.concat([movie_data, pd.DataFrame(genre_vectors, columns=mlb.classes_)], axis=1)"
   ]
  },
  {
   "cell_type": "code",
   "execution_count": 125,
   "id": "322dbd63",
   "metadata": {},
   "outputs": [],
   "source": [
    "# Compute cluster centroids\n",
    "cluster_centroids = movie_data.groupby('cluster')[mlb.classes_].mean()"
   ]
  },
  {
   "cell_type": "code",
   "execution_count": 109,
   "id": "7b94bb8e",
   "metadata": {},
   "outputs": [],
   "source": [
    "# Prepare FAISS index for ANN search\n",
    "# Normalize vectors for cosine similarity (FAISS uses inner product)\n",
    "genre_vectors = genre_vectors.astype(np.float32)\n",
    "norms = np.linalg.norm(genre_vectors, axis=1, keepdims=True)\n",
    "norms[norms == 0] = 1  # Avoid division by zero\n",
    "normalized_vectors = genre_vectors / norms\n",
    "index = faiss.IndexFlatIP(normalized_vectors.shape[1])  # Inner product index\n",
    "index.add(normalized_vectors)  # Add vectors to index"
   ]
  },
  {
   "cell_type": "code",
   "execution_count": 126,
   "id": "17e5a36e",
   "metadata": {},
   "outputs": [],
   "source": [
    "\"\"\"\n",
    "Assign a new movie to a cluster based on genre similarity to centroids.\n",
    "\n",
    "Args:\n",
    "    new_movie_genres (list): List of genres (e.g., ['Action', 'Comedy'])\n",
    "\n",
    "Returns:\n",
    "    int: Assigned cluster ID\n",
    "\"\"\"\n",
    "# Create genre vector for the new movie\n",
    "new_movie_vec = mlb.transform([new_movie_genres])[0].reshape(1, -1)\n",
    "\n",
    "# Normalize for cosine similarity\n",
    "norm = np.linalg.norm(new_movie_vec)\n",
    "if norm == 0:\n",
    "    norm = 1\n",
    "new_movie_vec_normalized = new_movie_vec / norm\n",
    "\n",
    "# Compute similarity to each cluster centroid\n",
    "similarities = np.dot(new_movie_vec_normalized, cluster_centroids.values.T)[0]\n",
    "\n",
    "# Assign to the cluster with the highest similarity\n",
    "assigned_cluster = cluster_centroids.index[np.argmax(similarities)]"
   ]
  },
  {
   "cell_type": "code",
   "execution_count": 111,
   "id": "30d08ab3",
   "metadata": {},
   "outputs": [],
   "source": [
    "\"\"\"\n",
    "Find the top N similar movies using FAISS ANN search.\n",
    "\n",
    "Args:\n",
    "    new_movie_genres (list): List of genres (e.g., ['Action', 'Comedy'])\n",
    "    top_n (int): Number of similar movies to return\n",
    "\n",
    "Returns:\n",
    "    list: List of (MovieID, similarity_score) tuples\n",
    "\"\"\"\n",
    "# Create genre vector for the new movie\n",
    "new_movie_vec = mlb.transform([new_movie_genres])[0].astype(np.float32)\n",
    "\n",
    "# Normalize for cosine similarity\n",
    "norm = np.linalg.norm(new_movie_vec)\n",
    "if norm == 0:\n",
    "    norm = 1\n",
    "new_movie_vec_normalized = (new_movie_vec / norm).reshape(1, -1)\n",
    "\n",
    "# Search FAISS index\n",
    "similarities, indices = index.search(new_movie_vec_normalized, top_n)\n",
    "\n",
    "# Retrieve MovieIDs and similarities\n",
    "movie_ids = movie_data['MovieID'].values\n",
    "top_similar = [(movie_ids[i], similarities[0][j]) for j, i in enumerate(indices[0])]"
   ]
  },
  {
   "cell_type": "code",
   "execution_count": 127,
   "id": "ece9f7a1",
   "metadata": {},
   "outputs": [
    {
     "name": "stdout",
     "output_type": "stream",
     "text": [
      "Assigned Cluster: 51\n"
     ]
    }
   ],
   "source": [
    "print(f\"Assigned Cluster: {assigned_cluster}\")"
   ]
  },
  {
   "cell_type": "code",
   "execution_count": 113,
   "id": "bcc8fdda",
   "metadata": {},
   "outputs": [
    {
     "name": "stdout",
     "output_type": "stream",
     "text": [
      "Top 10 Similar Movies:\n",
      "MovieID: 3489, Title: Hook (1991), Similarity: 1.0000\n",
      "MovieID: 2161, Title: NeverEnding Story, The (1984), Similarity: 0.8165\n",
      "MovieID: 2143, Title: Legend (1985), Similarity: 0.8165\n",
      "MovieID: 2043, Title: Darby O'Gill and the Little People (1959), Similarity: 0.8165\n",
      "MovieID: 2005, Title: Goonies, The (1985), Similarity: 0.8165\n",
      "MovieID: 1967, Title: Labyrinth (1986), Similarity: 0.8165\n",
      "MovieID: 1009, Title: Escape to Witch Mountain (1975), Similarity: 0.8165\n",
      "MovieID: 653, Title: Dragonheart (1996), Similarity: 0.8165\n",
      "MovieID: 126, Title: NeverEnding Story III, The (1994), Similarity: 0.8165\n",
      "MovieID: 60, Title: Indian in the Cupboard, The (1995), Similarity: 0.8165\n"
     ]
    }
   ],
   "source": [
    "print(\"Top 10 Similar Movies:\")\n",
    "for movie_id, similarity in top_similar:\n",
    "    title = features_df[features_df['MovieID'] == movie_id]['Title'].values[0]\n",
    "    print(f\"MovieID: {movie_id}, Title: {title}, Similarity: {similarity:.4f}\")"
   ]
  },
  {
   "cell_type": "markdown",
   "id": "de6c48f8",
   "metadata": {},
   "source": [
    "# .py Function 4 Testing"
   ]
  },
  {
   "cell_type": "code",
   "execution_count": 129,
   "id": "369d5dff",
   "metadata": {},
   "outputs": [],
   "source": [
    "from hybrid_recommender_rework import assign_new_movie_to_cluster, find_top_similar_movies_with_ann"
   ]
  },
  {
   "cell_type": "code",
   "execution_count": 130,
   "id": "3c3f97f0",
   "metadata": {},
   "outputs": [
    {
     "name": "stdout",
     "output_type": "stream",
     "text": [
      "Assigned Cluster: 21\n"
     ]
    }
   ],
   "source": [
    "# Example usage\n",
    "new_movie_genres = ['Action', 'Adventure', 'Sci-Fi']\n",
    "assigned_cluster = assign_new_movie_to_cluster(new_movie_genres)\n",
    "print(f\"Assigned Cluster: {assigned_cluster}\")"
   ]
  },
  {
   "cell_type": "code",
   "execution_count": 131,
   "id": "b588d8cc",
   "metadata": {},
   "outputs": [
    {
     "name": "stdout",
     "output_type": "stream",
     "text": [
      "Top 10 Similar Movies (ANN):\n",
      "MovieID: 1375, Title: Star Trek III: The Search for Spock (1984), Similarity: 1.0000\n",
      "MovieID: 1374, Title: Star Trek: The Wrath of Khan (1982), Similarity: 1.0000\n",
      "MovieID: 1373, Title: Star Trek V: The Final Frontier (1989), Similarity: 1.0000\n",
      "MovieID: 1372, Title: Star Trek VI: The Undiscovered Country (1991), Similarity: 1.0000\n",
      "MovieID: 1371, Title: Star Trek: The Motion Picture (1979), Similarity: 1.0000\n",
      "MovieID: 1356, Title: Star Trek: First Contact (1996), Similarity: 1.0000\n",
      "MovieID: 480, Title: Jurassic Park (1993), Similarity: 1.0000\n",
      "MovieID: 329, Title: Star Trek: Generations (1994), Similarity: 1.0000\n",
      "MovieID: 316, Title: Stargate (1994), Similarity: 1.0000\n",
      "MovieID: 173, Title: Judge Dredd (1995), Similarity: 1.0000\n"
     ]
    }
   ],
   "source": [
    "top_similar_movies = find_top_similar_movies_with_ann(new_movie_genres, top_n=10)\n",
    "print(\"Top 10 Similar Movies (ANN):\")\n",
    "for movie_id, similarity in top_similar_movies:\n",
    "    title = movies_df[movies_df['MovieID'] == movie_id]['Title'].values[0]\n",
    "    print(f\"MovieID: {movie_id}, Title: {title}, Similarity: {similarity:.4f}\")"
   ]
  }
 ],
 "metadata": {
  "kernelspec": {
   "display_name": "MachineLab10",
   "language": "python",
   "name": "python3"
  },
  "language_info": {
   "codemirror_mode": {
    "name": "ipython",
    "version": 3
   },
   "file_extension": ".py",
   "mimetype": "text/x-python",
   "name": "python",
   "nbconvert_exporter": "python",
   "pygments_lexer": "ipython3",
   "version": "3.10.16"
  }
 },
 "nbformat": 4,
 "nbformat_minor": 5
}
