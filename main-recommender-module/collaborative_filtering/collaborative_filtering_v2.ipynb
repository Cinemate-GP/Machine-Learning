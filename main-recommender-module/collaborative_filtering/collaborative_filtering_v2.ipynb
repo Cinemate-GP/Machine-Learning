{
 "cells": [
  {
   "cell_type": "markdown",
   "id": "1b4d7611",
   "metadata": {},
   "source": [
    "# Imports"
   ]
  },
  {
   "cell_type": "code",
   "execution_count": 1,
   "id": "4f27a6e5",
   "metadata": {},
   "outputs": [],
   "source": [
    "import numpy as np\n",
    "import pandas as pd\n",
    "import matplotlib.pyplot as plt\n",
    "\n",
    "from sklearn.linear_model import LinearRegression, Lasso, LogisticRegression\n",
    "from sklearn.svm import SVR\n",
    "from sklearn.ensemble import GradientBoostingRegressor, RandomForestRegressor\n",
    "from sklearn.model_selection import GridSearchCV, RandomizedSearchCV, train_test_split as sklearn_split\n",
    "from sklearn.metrics import mean_squared_error, mean_absolute_error,r2_score, roc_auc_score\n",
    "from sklearn.metrics import accuracy_score,confusion_matrix,classification_report\n",
    "from sklearn.pipeline import Pipeline\n",
    "from surprise import SVD, Dataset, Reader, accuracy, KNNBasic, SlopeOne, CoClustering, NMF\n",
    "from surprise.model_selection import GridSearchCV, cross_validate, train_test_split\n",
    "from sklearn.preprocessing import OneHotEncoder , StandardScaler\n",
    "from joblib import Memory, parallel_backend, dump"
   ]
  },
  {
   "cell_type": "markdown",
   "id": "ddbb6e37",
   "metadata": {},
   "source": [
    "# Data Preprocessing"
   ]
  },
  {
   "cell_type": "code",
   "execution_count": 2,
   "id": "59eb5982-6332-4159-b1eb-49659cd700b3",
   "metadata": {},
   "outputs": [
    {
     "data": {
      "text/html": [
       "<div>\n",
       "<style scoped>\n",
       "    .dataframe tbody tr th:only-of-type {\n",
       "        vertical-align: middle;\n",
       "    }\n",
       "\n",
       "    .dataframe tbody tr th {\n",
       "        vertical-align: top;\n",
       "    }\n",
       "\n",
       "    .dataframe thead th {\n",
       "        text-align: right;\n",
       "    }\n",
       "</style>\n",
       "<table border=\"1\" class=\"dataframe\">\n",
       "  <thead>\n",
       "    <tr style=\"text-align: right;\">\n",
       "      <th></th>\n",
       "      <th>UserID</th>\n",
       "      <th>MovieID</th>\n",
       "      <th>Rating</th>\n",
       "      <th>Gender</th>\n",
       "      <th>Age</th>\n",
       "      <th>Title</th>\n",
       "      <th>Genres</th>\n",
       "      <th>Year</th>\n",
       "    </tr>\n",
       "  </thead>\n",
       "  <tbody>\n",
       "    <tr>\n",
       "      <th>0</th>\n",
       "      <td>1</td>\n",
       "      <td>1193</td>\n",
       "      <td>5</td>\n",
       "      <td>0</td>\n",
       "      <td>1</td>\n",
       "      <td>One Flew Over the Cuckoo's Nest</td>\n",
       "      <td>[8]</td>\n",
       "      <td>1975</td>\n",
       "    </tr>\n",
       "    <tr>\n",
       "      <th>1</th>\n",
       "      <td>1</td>\n",
       "      <td>661</td>\n",
       "      <td>3</td>\n",
       "      <td>0</td>\n",
       "      <td>1</td>\n",
       "      <td>James and the Giant Peach</td>\n",
       "      <td>[3, 4, 12]</td>\n",
       "      <td>1996</td>\n",
       "    </tr>\n",
       "    <tr>\n",
       "      <th>2</th>\n",
       "      <td>1</td>\n",
       "      <td>914</td>\n",
       "      <td>3</td>\n",
       "      <td>0</td>\n",
       "      <td>1</td>\n",
       "      <td>My Fair Lady</td>\n",
       "      <td>[12, 14]</td>\n",
       "      <td>1964</td>\n",
       "    </tr>\n",
       "    <tr>\n",
       "      <th>3</th>\n",
       "      <td>1</td>\n",
       "      <td>3408</td>\n",
       "      <td>4</td>\n",
       "      <td>0</td>\n",
       "      <td>1</td>\n",
       "      <td>Erin Brockovich</td>\n",
       "      <td>[8]</td>\n",
       "      <td>2000</td>\n",
       "    </tr>\n",
       "    <tr>\n",
       "      <th>4</th>\n",
       "      <td>1</td>\n",
       "      <td>2355</td>\n",
       "      <td>5</td>\n",
       "      <td>0</td>\n",
       "      <td>1</td>\n",
       "      <td>Bug's Life, A</td>\n",
       "      <td>[3, 4, 5]</td>\n",
       "      <td>1998</td>\n",
       "    </tr>\n",
       "  </tbody>\n",
       "</table>\n",
       "</div>"
      ],
      "text/plain": [
       "   UserID  MovieID  Rating  Gender  Age                            Title  \\\n",
       "0       1     1193       5       0    1  One Flew Over the Cuckoo's Nest   \n",
       "1       1      661       3       0    1        James and the Giant Peach   \n",
       "2       1      914       3       0    1                     My Fair Lady   \n",
       "3       1     3408       4       0    1                  Erin Brockovich   \n",
       "4       1     2355       5       0    1                    Bug's Life, A   \n",
       "\n",
       "       Genres  Year  \n",
       "0         [8]  1975  \n",
       "1  [3, 4, 12]  1996  \n",
       "2    [12, 14]  1964  \n",
       "3         [8]  2000  \n",
       "4   [3, 4, 5]  1998  "
      ]
     },
     "execution_count": 2,
     "metadata": {},
     "output_type": "execute_result"
    }
   ],
   "source": [
    "df = pd.read_csv(\"../../preprocessing/merged_data.csv\")\n",
    "df.head()"
   ]
  },
  {
   "cell_type": "code",
   "execution_count": 3,
   "id": "da6dc40e",
   "metadata": {},
   "outputs": [
    {
     "name": "stdout",
     "output_type": "stream",
     "text": [
      "<class 'pandas.core.frame.DataFrame'>\n",
      "RangeIndex: 1000209 entries, 0 to 1000208\n",
      "Data columns (total 8 columns):\n",
      " #   Column   Non-Null Count    Dtype \n",
      "---  ------   --------------    ----- \n",
      " 0   UserID   1000209 non-null  int64 \n",
      " 1   MovieID  1000209 non-null  int64 \n",
      " 2   Rating   1000209 non-null  int64 \n",
      " 3   Gender   1000209 non-null  int64 \n",
      " 4   Age      1000209 non-null  int64 \n",
      " 5   Title    1000209 non-null  object\n",
      " 6   Genres   1000209 non-null  object\n",
      " 7   Year     1000209 non-null  int64 \n",
      "dtypes: int64(6), object(2)\n",
      "memory usage: 61.0+ MB\n"
     ]
    }
   ],
   "source": [
    "df.info()"
   ]
  },
  {
   "cell_type": "code",
   "execution_count": 4,
   "id": "1741c975",
   "metadata": {},
   "outputs": [
    {
     "data": {
      "text/html": [
       "<div>\n",
       "<style scoped>\n",
       "    .dataframe tbody tr th:only-of-type {\n",
       "        vertical-align: middle;\n",
       "    }\n",
       "\n",
       "    .dataframe tbody tr th {\n",
       "        vertical-align: top;\n",
       "    }\n",
       "\n",
       "    .dataframe thead th {\n",
       "        text-align: right;\n",
       "    }\n",
       "</style>\n",
       "<table border=\"1\" class=\"dataframe\">\n",
       "  <thead>\n",
       "    <tr style=\"text-align: right;\">\n",
       "      <th></th>\n",
       "      <th>UserID</th>\n",
       "      <th>MovieID</th>\n",
       "      <th>Rating</th>\n",
       "    </tr>\n",
       "  </thead>\n",
       "  <tbody>\n",
       "    <tr>\n",
       "      <th>0</th>\n",
       "      <td>1</td>\n",
       "      <td>1193</td>\n",
       "      <td>5</td>\n",
       "    </tr>\n",
       "    <tr>\n",
       "      <th>1</th>\n",
       "      <td>1</td>\n",
       "      <td>661</td>\n",
       "      <td>3</td>\n",
       "    </tr>\n",
       "    <tr>\n",
       "      <th>2</th>\n",
       "      <td>1</td>\n",
       "      <td>914</td>\n",
       "      <td>3</td>\n",
       "    </tr>\n",
       "    <tr>\n",
       "      <th>3</th>\n",
       "      <td>1</td>\n",
       "      <td>3408</td>\n",
       "      <td>4</td>\n",
       "    </tr>\n",
       "    <tr>\n",
       "      <th>4</th>\n",
       "      <td>1</td>\n",
       "      <td>2355</td>\n",
       "      <td>5</td>\n",
       "    </tr>\n",
       "  </tbody>\n",
       "</table>\n",
       "</div>"
      ],
      "text/plain": [
       "   UserID  MovieID  Rating\n",
       "0       1     1193       5\n",
       "1       1      661       3\n",
       "2       1      914       3\n",
       "3       1     3408       4\n",
       "4       1     2355       5"
      ]
     },
     "execution_count": 4,
     "metadata": {},
     "output_type": "execute_result"
    }
   ],
   "source": [
    "filtered_df = df.drop(columns=[\"Gender\",\"Age\",\"Title\",\"Year\", \"Genres\"])\n",
    "filtered_df.head()"
   ]
  },
  {
   "cell_type": "code",
   "execution_count": 5,
   "id": "6277a887",
   "metadata": {},
   "outputs": [
    {
     "data": {
      "text/plain": [
       "Rating\n",
       "4    348971\n",
       "3    261197\n",
       "5    226310\n",
       "2    107557\n",
       "1     56174\n",
       "Name: count, dtype: int64"
      ]
     },
     "execution_count": 5,
     "metadata": {},
     "output_type": "execute_result"
    }
   ],
   "source": [
    "filtered_df[\"Rating\"].value_counts()"
   ]
  },
  {
   "cell_type": "code",
   "execution_count": 6,
   "id": "f6503030",
   "metadata": {},
   "outputs": [
    {
     "name": "stdout",
     "output_type": "stream",
     "text": [
      "      user_id  num_ratings\n",
      "0           1           53\n",
      "1           2          129\n",
      "2           3           51\n",
      "3           4           21\n",
      "4           5          198\n",
      "...       ...          ...\n",
      "6035     6036          888\n",
      "6036     6037          202\n",
      "6037     6038           20\n",
      "6038     6039          123\n",
      "6039     6040          341\n",
      "\n",
      "[6040 rows x 2 columns]\n"
     ]
    }
   ],
   "source": [
    "ratings_per_user = filtered_df.groupby('UserID')['Rating'].count().reset_index()\n",
    "ratings_per_user.columns = ['user_id', 'num_ratings']\n",
    "print(ratings_per_user)"
   ]
  },
  {
   "cell_type": "code",
   "execution_count": 7,
   "id": "7eff3e67",
   "metadata": {},
   "outputs": [
    {
     "name": "stdout",
     "output_type": "stream",
     "text": [
      "count    6040.000000\n",
      "mean      165.597517\n",
      "std       192.747029\n",
      "min        20.000000\n",
      "10%        27.000000\n",
      "50%        96.000000\n",
      "90%       400.000000\n",
      "max      2314.000000\n",
      "Name: num_ratings, dtype: float64\n"
     ]
    }
   ],
   "source": [
    "stats = ratings_per_user['num_ratings'].describe(percentiles=[0.1, 0.5, 0.9])\n",
    "print(stats)"
   ]
  },
  {
   "cell_type": "code",
   "execution_count": 8,
   "id": "020d8e72",
   "metadata": {},
   "outputs": [
    {
     "data": {
      "text/plain": [
       "count    1.000209e+06\n",
       "mean     1.865540e+03\n",
       "std      1.096041e+03\n",
       "min      1.000000e+00\n",
       "25%      1.030000e+03\n",
       "50%      1.835000e+03\n",
       "75%      2.770000e+03\n",
       "max      3.952000e+03\n",
       "Name: MovieID, dtype: float64"
      ]
     },
     "execution_count": 8,
     "metadata": {},
     "output_type": "execute_result"
    }
   ],
   "source": [
    "filtered_df[\"MovieID\"].describe()"
   ]
  },
  {
   "cell_type": "code",
   "execution_count": 9,
   "id": "954089a6",
   "metadata": {},
   "outputs": [
    {
     "data": {
      "text/plain": [
       "count    1.000209e+06\n",
       "mean     3.024512e+03\n",
       "std      1.728413e+03\n",
       "min      1.000000e+00\n",
       "25%      1.506000e+03\n",
       "50%      3.070000e+03\n",
       "75%      4.476000e+03\n",
       "max      6.040000e+03\n",
       "Name: UserID, dtype: float64"
      ]
     },
     "execution_count": 9,
     "metadata": {},
     "output_type": "execute_result"
    }
   ],
   "source": [
    "filtered_df[\"UserID\"].describe()"
   ]
  },
  {
   "cell_type": "code",
   "execution_count": 10,
   "id": "149460e4",
   "metadata": {},
   "outputs": [],
   "source": [
    "user_means = filtered_df.groupby('UserID')['Rating'].mean().rename('user_mean')\n",
    "filtered_df = filtered_df.join(user_means, on='UserID')"
   ]
  },
  {
   "cell_type": "code",
   "execution_count": 11,
   "id": "2a527160",
   "metadata": {},
   "outputs": [
    {
     "name": "stdout",
     "output_type": "stream",
     "text": [
      "         UserID  MovieID  Rating  user_mean  normalized_rating\n",
      "0             1     1193       5   4.188679           0.811321\n",
      "1             1      661       3   4.188679          -1.188679\n",
      "2             1      914       3   4.188679          -1.188679\n",
      "3             1     3408       4   4.188679          -0.188679\n",
      "4             1     2355       5   4.188679           0.811321\n",
      "...         ...      ...     ...        ...                ...\n",
      "1000204    6040     1091       1   3.577713          -2.577713\n",
      "1000205    6040     1094       5   3.577713           1.422287\n",
      "1000206    6040      562       5   3.577713           1.422287\n",
      "1000207    6040     1096       4   3.577713           0.422287\n",
      "1000208    6040     1097       4   3.577713           0.422287\n",
      "\n",
      "[1000209 rows x 5 columns]\n"
     ]
    }
   ],
   "source": [
    "filtered_df['normalized_rating'] = filtered_df['Rating'] - filtered_df['user_mean']\n",
    "print(filtered_df)"
   ]
  },
  {
   "cell_type": "markdown",
   "id": "27f81d7b",
   "metadata": {},
   "source": [
    "# Model Training"
   ]
  },
  {
   "cell_type": "code",
   "execution_count": 12,
   "id": "9ac297b8",
   "metadata": {},
   "outputs": [],
   "source": [
    "reader = Reader(rating_scale=(filtered_df['normalized_rating'].min(), filtered_df['normalized_rating'].max()))\n",
    "data = Dataset.load_from_df(filtered_df[['UserID', 'MovieID', 'normalized_rating']], reader)"
   ]
  },
  {
   "cell_type": "code",
   "execution_count": 13,
   "id": "5d8952c9",
   "metadata": {},
   "outputs": [],
   "source": [
    "trainset, testset = train_test_split(data, test_size=0.2, random_state=42)"
   ]
  },
  {
   "cell_type": "code",
   "execution_count": 16,
   "id": "bb819954",
   "metadata": {},
   "outputs": [],
   "source": [
    "# Define models and parameter grids\n",
    "models = [\n",
    "    {\n",
    "        'name': 'SVD',\n",
    "        'algo': SVD,\n",
    "        'params': {\n",
    "            'n_factors': [50, 100, 150],\n",
    "            'n_epochs': [20, 30],\n",
    "            'lr_all': [0.005, 0.01],\n",
    "            'reg_all': [0.02, 0.1]\n",
    "        }\n",
    "    },\n",
    "    {\n",
    "        'name': 'KNNBasic',\n",
    "        'algo': KNNBasic,\n",
    "        'params': {\n",
    "            'k': [20, 40],\n",
    "            'sim_options': {\n",
    "                'name': ['msd', 'pearson'],\n",
    "                'user_based': [False]\n",
    "            }\n",
    "        }\n",
    "    },\n",
    "    {\n",
    "        'name': 'NMF',\n",
    "        'algo': NMF,\n",
    "        'params': {\n",
    "            'n_factors': [10, 15],\n",
    "            'n_epochs': [50, 100]\n",
    "        }\n",
    "    },\n",
    "    {\n",
    "        'name': 'CoClustering',\n",
    "        'algo': CoClustering,\n",
    "        'params': {\n",
    "            'n_cltr_u': [3, 5],\n",
    "            'n_cltr_i': [3, 5],\n",
    "            'n_epochs': [20, 30]\n",
    "        }\n",
    "    }\n",
    "]\n",
    "\n",
    "results = []"
   ]
  },
  {
   "cell_type": "code",
   "execution_count": 17,
   "id": "e648c9a4",
   "metadata": {},
   "outputs": [
    {
     "name": "stdout",
     "output_type": "stream",
     "text": [
      "\n",
      "=== Tuning SVD ===\n",
      "\n",
      "=== Tuning KNNBasic ===\n",
      "Computing the msd similarity matrix...\n",
      "Done computing similarity matrix.\n",
      "\n",
      "=== Tuning NMF ===\n",
      "\n",
      "=== Tuning CoClustering ===\n"
     ]
    }
   ],
   "source": [
    "for model_config in models:\n",
    "    print(f\"\\n=== Tuning {model_config['name']} ===\")\n",
    "    \n",
    "    # Hyperparameter tuning\n",
    "    gs = GridSearchCV(\n",
    "        model_config['algo'],\n",
    "        model_config['params'],\n",
    "        measures=['rmse'],\n",
    "        cv=5,\n",
    "        n_jobs=-1,\n",
    "        pre_dispatch='2*n_jobs'\n",
    "    )\n",
    "    gs.fit(data)\n",
    "    \n",
    "    # Get best model\n",
    "    best_model = gs.best_estimator['rmse']\n",
    "    best_model.fit(trainset)\n",
    "    \n",
    "    # Generate predictions\n",
    "    predictions = best_model.test(testset)\n",
    "    preds = np.array([pred.est + user_means[pred.uid] for pred in predictions])\n",
    "    actuals = np.array([pred.r_ui + user_means[pred.uid] for pred in predictions])\n",
    "    \n",
    "    preds = np.clip(preds, 1, 5)\n",
    "    \n",
    "    # Calculate metrics\n",
    "    rmse = np.sqrt(np.mean((preds - actuals) ** 2))\n",
    "    \n",
    "    # Accuracy calculations\n",
    "    tol_1 = np.mean(np.abs(preds - actuals) <= 1) * 100\n",
    "    tol_05 = np.mean(np.abs(preds - actuals) <= 0.5) * 100\n",
    "    \n",
    "    results.append({\n",
    "        'Model': model_config['name'],\n",
    "        'Best Params': gs.best_params['rmse'],\n",
    "        'RMSE': rmse,\n",
    "        'Acc (±1)': tol_1,\n",
    "        'Acc (±0.5)': tol_05\n",
    "    })"
   ]
  },
  {
   "cell_type": "code",
   "execution_count": null,
   "id": "06806afd",
   "metadata": {},
   "outputs": [],
   "source": [
    "#preds = np.array([pred.est for pred in test_preds]).reshape(-1, 1)\n",
    "#actuals = np.array([pred.r_ui for pred in test_preds]).reshape(-1, 1)"
   ]
  },
  {
   "cell_type": "code",
   "execution_count": null,
   "id": "ba540de3",
   "metadata": {},
   "outputs": [],
   "source": [
    "# Print predictions\n",
    "#for pred in test_preds:\n",
    "#    print(f\"Predicted={pred.est:.2f}, Actual={pred.r_ui}\")"
   ]
  },
  {
   "cell_type": "code",
   "execution_count": 18,
   "id": "49f51e4a",
   "metadata": {},
   "outputs": [
    {
     "name": "stdout",
     "output_type": "stream",
     "text": [
      "\n",
      "=== Model Comparison ===\n",
      "       Model                                                         Best Params     RMSE  Acc (±1)  Acc (±0.5)\n",
      "         SVD {'n_factors': 50, 'n_epochs': 20, 'lr_all': 0.005, 'reg_all': 0.02} 0.871230 76.323972   44.740105\n",
      "    KNNBasic      {'k': 40, 'sim_options': {'name': 'msd', 'user_based': False}} 0.914352 73.984463   42.632547\n",
      "         NMF                                  {'n_factors': 10, 'n_epochs': 100} 1.069651 65.615721   36.613811\n",
      "CoClustering                      {'n_cltr_u': 5, 'n_cltr_i': 5, 'n_epochs': 20} 0.943528 71.055078   39.887624\n"
     ]
    },
    {
     "data": {
      "text/html": [
       "<style type=\"text/css\">\n",
       "</style>\n",
       "<table id=\"T_06763\">\n",
       "  <thead>\n",
       "    <tr>\n",
       "      <th class=\"blank level0\" >&nbsp;</th>\n",
       "      <th id=\"T_06763_level0_col0\" class=\"col_heading level0 col0\" >Model</th>\n",
       "      <th id=\"T_06763_level0_col1\" class=\"col_heading level0 col1\" >Best Params</th>\n",
       "      <th id=\"T_06763_level0_col2\" class=\"col_heading level0 col2\" >RMSE</th>\n",
       "      <th id=\"T_06763_level0_col3\" class=\"col_heading level0 col3\" >Acc (±1)</th>\n",
       "      <th id=\"T_06763_level0_col4\" class=\"col_heading level0 col4\" >Acc (±0.5)</th>\n",
       "    </tr>\n",
       "  </thead>\n",
       "  <tbody>\n",
       "    <tr>\n",
       "      <th id=\"T_06763_level0_row0\" class=\"row_heading level0 row0\" >0</th>\n",
       "      <td id=\"T_06763_row0_col0\" class=\"data row0 col0\" >SVD</td>\n",
       "      <td id=\"T_06763_row0_col1\" class=\"data row0 col1\" >{'n_factors': 50, 'n_epochs': 20, 'lr_all': 0.005, 'reg_all': 0.02}</td>\n",
       "      <td id=\"T_06763_row0_col2\" class=\"data row0 col2\" >0.8712</td>\n",
       "      <td id=\"T_06763_row0_col3\" class=\"data row0 col3\" >76.32%</td>\n",
       "      <td id=\"T_06763_row0_col4\" class=\"data row0 col4\" >44.74%</td>\n",
       "    </tr>\n",
       "    <tr>\n",
       "      <th id=\"T_06763_level0_row1\" class=\"row_heading level0 row1\" >1</th>\n",
       "      <td id=\"T_06763_row1_col0\" class=\"data row1 col0\" >KNNBasic</td>\n",
       "      <td id=\"T_06763_row1_col1\" class=\"data row1 col1\" >{'k': 40, 'sim_options': {'name': 'msd', 'user_based': False}}</td>\n",
       "      <td id=\"T_06763_row1_col2\" class=\"data row1 col2\" >0.9144</td>\n",
       "      <td id=\"T_06763_row1_col3\" class=\"data row1 col3\" >73.98%</td>\n",
       "      <td id=\"T_06763_row1_col4\" class=\"data row1 col4\" >42.63%</td>\n",
       "    </tr>\n",
       "    <tr>\n",
       "      <th id=\"T_06763_level0_row2\" class=\"row_heading level0 row2\" >2</th>\n",
       "      <td id=\"T_06763_row2_col0\" class=\"data row2 col0\" >NMF</td>\n",
       "      <td id=\"T_06763_row2_col1\" class=\"data row2 col1\" >{'n_factors': 10, 'n_epochs': 100}</td>\n",
       "      <td id=\"T_06763_row2_col2\" class=\"data row2 col2\" >1.0697</td>\n",
       "      <td id=\"T_06763_row2_col3\" class=\"data row2 col3\" >65.62%</td>\n",
       "      <td id=\"T_06763_row2_col4\" class=\"data row2 col4\" >36.61%</td>\n",
       "    </tr>\n",
       "    <tr>\n",
       "      <th id=\"T_06763_level0_row3\" class=\"row_heading level0 row3\" >3</th>\n",
       "      <td id=\"T_06763_row3_col0\" class=\"data row3 col0\" >CoClustering</td>\n",
       "      <td id=\"T_06763_row3_col1\" class=\"data row3 col1\" >{'n_cltr_u': 5, 'n_cltr_i': 5, 'n_epochs': 20}</td>\n",
       "      <td id=\"T_06763_row3_col2\" class=\"data row3 col2\" >0.9435</td>\n",
       "      <td id=\"T_06763_row3_col3\" class=\"data row3 col3\" >71.06%</td>\n",
       "      <td id=\"T_06763_row3_col4\" class=\"data row3 col4\" >39.89%</td>\n",
       "    </tr>\n",
       "  </tbody>\n",
       "</table>\n"
      ],
      "text/plain": [
       "<pandas.io.formats.style.Styler at 0x15f5d53a750>"
      ]
     },
     "execution_count": 18,
     "metadata": {},
     "output_type": "execute_result"
    }
   ],
   "source": [
    "# Display results in DataFrame\n",
    "results_df = pd.DataFrame(results)\n",
    "print(\"\\n=== Model Comparison ===\")\n",
    "print(results_df.to_string(index=False))\n",
    "\n",
    "# Optional: Formatting for better display\n",
    "results_df.style.format({\n",
    "    'RMSE': '{:.4f}',\n",
    "    'Acc (±1)': '{:.2f}%',\n",
    "    'Acc (±0.5)': '{:.2f}%'\n",
    "})"
   ]
  },
  {
   "cell_type": "code",
   "execution_count": null,
   "id": "d95b1754",
   "metadata": {},
   "outputs": [],
   "source": [
    "# Define tolerance (e.g., predictions within ±1 stars are \"correct\")\n",
    "tolerance = 1\n",
    "correct = np.abs(preds - actuals) <= tolerance\n",
    "test_accuracy = np.mean(correct) * 100\n",
    "\n",
    "# Define stricter tolerance (e.g., predictions within ±0.5 stars are \"correct\")\n",
    "stricter_tolerance = 0.5\n",
    "s_correct = np.abs(preds - actuals) <= stricter_tolerance\n",
    "s_test_accuracy = np.mean(s_correct) * 100\n",
    "\n",
    "print(f\"Accuracy (Within ±{tolerance} Stars): {test_accuracy:.2f}%\")\n",
    "print(f\"Accuracy (Within ±{stricter_tolerance} Stars): {s_test_accuracy:.2f}%\")"
   ]
  },
  {
   "cell_type": "code",
   "execution_count": null,
   "id": "0612cfb4",
   "metadata": {},
   "outputs": [],
   "source": [
    "# Save the model to disk\n",
    "dump(model, '../models/cf_model.pkl')  # Or use .joblib extension\n",
    "print(\"Model saved successfully!\")"
   ]
  },
  {
   "cell_type": "markdown",
   "id": "c6aa8235",
   "metadata": {},
   "source": [
    "# Model Training with 10M"
   ]
  },
  {
   "cell_type": "code",
   "execution_count": 3,
   "id": "b0a8e859",
   "metadata": {},
   "outputs": [
    {
     "data": {
      "text/html": [
       "<div>\n",
       "<style scoped>\n",
       "    .dataframe tbody tr th:only-of-type {\n",
       "        vertical-align: middle;\n",
       "    }\n",
       "\n",
       "    .dataframe tbody tr th {\n",
       "        vertical-align: top;\n",
       "    }\n",
       "\n",
       "    .dataframe thead th {\n",
       "        text-align: right;\n",
       "    }\n",
       "</style>\n",
       "<table border=\"1\" class=\"dataframe\">\n",
       "  <thead>\n",
       "    <tr style=\"text-align: right;\">\n",
       "      <th></th>\n",
       "      <th>UserID</th>\n",
       "      <th>MovieID</th>\n",
       "      <th>Rating</th>\n",
       "    </tr>\n",
       "  </thead>\n",
       "  <tbody>\n",
       "    <tr>\n",
       "      <th>0</th>\n",
       "      <td>1</td>\n",
       "      <td>122</td>\n",
       "      <td>5.0</td>\n",
       "    </tr>\n",
       "    <tr>\n",
       "      <th>1</th>\n",
       "      <td>1</td>\n",
       "      <td>185</td>\n",
       "      <td>5.0</td>\n",
       "    </tr>\n",
       "    <tr>\n",
       "      <th>2</th>\n",
       "      <td>1</td>\n",
       "      <td>231</td>\n",
       "      <td>5.0</td>\n",
       "    </tr>\n",
       "    <tr>\n",
       "      <th>3</th>\n",
       "      <td>1</td>\n",
       "      <td>292</td>\n",
       "      <td>5.0</td>\n",
       "    </tr>\n",
       "    <tr>\n",
       "      <th>4</th>\n",
       "      <td>1</td>\n",
       "      <td>316</td>\n",
       "      <td>5.0</td>\n",
       "    </tr>\n",
       "  </tbody>\n",
       "</table>\n",
       "</div>"
      ],
      "text/plain": [
       "   UserID  MovieID  Rating\n",
       "0       1      122     5.0\n",
       "1       1      185     5.0\n",
       "2       1      231     5.0\n",
       "3       1      292     5.0\n",
       "4       1      316     5.0"
      ]
     },
     "execution_count": 3,
     "metadata": {},
     "output_type": "execute_result"
    }
   ],
   "source": [
    "# Dataset Upgrade\n",
    "beeg_data = pd.read_csv(r\"K:\\MachineProject\\Data\\ml-32m\\ratings.dat\", sep='::', engine='python', names=['UserID', 'MovieID', 'Rating', 'Timestamp'])\n",
    "\n",
    "# Drop the Timestamp column\n",
    "beeg_data = beeg_data.drop('Timestamp', axis=1)\n",
    "beeg_data.columns = ['UserID', 'MovieID', 'Rating']\n",
    "beeg_data.head()"
   ]
  },
  {
   "cell_type": "code",
   "execution_count": null,
   "id": "bd291d8d",
   "metadata": {},
   "outputs": [
    {
     "name": "stdout",
     "output_type": "stream",
     "text": [
      "       user_id  num_ratings\n",
      "0            1           22\n",
      "1            2           20\n",
      "2            3           33\n",
      "3            4           38\n",
      "4            5           87\n",
      "...        ...          ...\n",
      "69873    71563           43\n",
      "69874    71564          105\n",
      "69875    71565          145\n",
      "69876    71566           49\n",
      "69877    71567           53\n",
      "\n",
      "[69878 rows x 2 columns]\n"
     ]
    }
   ],
   "source": [
    "ratings_per_user = beeg_data.groupby('UserID')['Rating'].count().reset_index()\n",
    "ratings_per_user.columns = ['user_id', 'num_ratings']\n",
    "print(ratings_per_user)"
   ]
  },
  {
   "cell_type": "code",
   "execution_count": null,
   "id": "f4844132",
   "metadata": {},
   "outputs": [
    {
     "name": "stdout",
     "output_type": "stream",
     "text": [
      "count    69878.00000\n",
      "mean       143.10733\n",
      "std        216.71258\n",
      "min         20.00000\n",
      "10%         24.00000\n",
      "50%         69.00000\n",
      "90%        335.00000\n",
      "max       7359.00000\n",
      "Name: num_ratings, dtype: float64\n"
     ]
    }
   ],
   "source": [
    "stats = ratings_per_user['num_ratings'].describe(percentiles=[0.1, 0.5, 0.9])\n",
    "print(stats)"
   ]
  },
  {
   "cell_type": "code",
   "execution_count": null,
   "id": "d40d9cc3",
   "metadata": {},
   "outputs": [
    {
     "data": {
      "text/plain": [
       "Rating\n",
       "4.0    2875850\n",
       "3.0    2356676\n",
       "5.0    1544812\n",
       "3.5     879764\n",
       "2.0     790306\n",
       "4.5     585022\n",
       "1.0     384180\n",
       "2.5     370178\n",
       "1.5     118278\n",
       "0.5      94988\n",
       "Name: count, dtype: int64"
      ]
     },
     "metadata": {},
     "output_type": "display_data"
    }
   ],
   "source": [
    "beeg_data[\"Rating\"].value_counts()"
   ]
  },
  {
   "cell_type": "code",
   "execution_count": null,
   "id": "3c14ad22",
   "metadata": {},
   "outputs": [
    {
     "data": {
      "text/plain": [
       "count    1.000005e+07\n",
       "mean     4.120291e+03\n",
       "std      8.938402e+03\n",
       "min      1.000000e+00\n",
       "25%      6.480000e+02\n",
       "50%      1.834000e+03\n",
       "75%      3.624000e+03\n",
       "max      6.513300e+04\n",
       "Name: MovieID, dtype: float64"
      ]
     },
     "metadata": {},
     "output_type": "display_data"
    }
   ],
   "source": [
    "beeg_data[\"MovieID\"].describe()"
   ]
  },
  {
   "cell_type": "code",
   "execution_count": null,
   "id": "c8d651be",
   "metadata": {},
   "outputs": [
    {
     "data": {
      "text/plain": [
       "count    1.000005e+07\n",
       "mean     3.586986e+04\n",
       "std      2.058534e+04\n",
       "min      1.000000e+00\n",
       "25%      1.812300e+04\n",
       "50%      3.574050e+04\n",
       "75%      5.360800e+04\n",
       "max      7.156700e+04\n",
       "Name: UserID, dtype: float64"
      ]
     },
     "metadata": {},
     "output_type": "display_data"
    }
   ],
   "source": [
    "beeg_data[\"UserID\"].describe()"
   ]
  },
  {
   "cell_type": "code",
   "execution_count": null,
   "id": "582c1c0a",
   "metadata": {},
   "outputs": [
    {
     "name": "stdout",
     "output_type": "stream",
     "text": [
      "<class 'pandas.core.frame.DataFrame'>\n",
      "RangeIndex: 10000054 entries, 0 to 10000053\n",
      "Data columns (total 3 columns):\n",
      " #   Column   Dtype  \n",
      "---  ------   -----  \n",
      " 0   UserID   int32  \n",
      " 1   MovieID  int32  \n",
      " 2   Rating   float16\n",
      "dtypes: float16(1), int32(2)\n",
      "memory usage: 95.4 MB\n"
     ]
    }
   ],
   "source": [
    "beeg_data['UserID'] = beeg_data['UserID'].astype('int32')\n",
    "beeg_data['MovieID'] = beeg_data['MovieID'].astype('int32')\n",
    "beeg_data['Rating'] = beeg_data['Rating'].astype('float16')\n",
    "\n",
    "beeg_data.info(memory_usage='deep')"
   ]
  },
  {
   "cell_type": "code",
   "execution_count": null,
   "id": "8f39fccf",
   "metadata": {},
   "outputs": [],
   "source": [
    "# Stratify by user_id (ensure all users are represented)\n",
    "subsampled_df, _ = sklearn_split(\n",
    "    beeg_data,\n",
    "    test_size=0.5,\n",
    "    stratify=beeg_data['UserID'],  # Preserve user distribution\n",
    "    random_state=42\n",
    ")"
   ]
  },
  {
   "cell_type": "code",
   "execution_count": 4,
   "id": "6ab49a2d",
   "metadata": {},
   "outputs": [],
   "source": [
    "reader = Reader(rating_scale=(beeg_data['Rating'].min(), beeg_data['Rating'].max()))\n",
    "data = Dataset.load_from_df(beeg_data[['UserID', 'MovieID', 'Rating']], reader)"
   ]
  },
  {
   "cell_type": "code",
   "execution_count": 5,
   "id": "3258581f",
   "metadata": {},
   "outputs": [],
   "source": [
    "memory = Memory(location='./cache', verbose=0)"
   ]
  },
  {
   "cell_type": "code",
   "execution_count": null,
   "id": "ab8a3a24",
   "metadata": {},
   "outputs": [
    {
     "name": "stdout",
     "output_type": "stream",
     "text": [
      "Best RMSE: 0.8375733996579366\n",
      "Best params: {'n_factors': 50, 'n_epochs': 20, 'lr_all': 0.005, 'reg_all': 0.02}\n"
     ]
    }
   ],
   "source": [
    "param_grid = {\n",
    "    'n_factors': [50, 100],  # Test latent dimensions\n",
    "    'n_epochs': [20, 30],\n",
    "    'lr_all': [0.005, 0.01],\n",
    "    'reg_all': [0.02, 0.1]\n",
    "}\n",
    "\n",
    "\n",
    "gs = GridSearchCV(\n",
    "    SVD,\n",
    "    param_grid,\n",
    "    measures=['rmse'],\n",
    "    cv=5,\n",
    "    n_jobs=1,\n",
    ")\n",
    "gs.fit(data)\n",
    "\n",
    "# Best RMSE score and params\n",
    "print(f\"Best RMSE: {gs.best_score['rmse']}\")\n",
    "print(f\"Best params: {gs.best_params['rmse']}\")"
   ]
  },
  {
   "cell_type": "code",
   "execution_count": 6,
   "id": "876697af",
   "metadata": {},
   "outputs": [],
   "source": [
    "trainset, testset = train_test_split(data, test_size=0.2, random_state=42)"
   ]
  },
  {
   "cell_type": "code",
   "execution_count": 7,
   "id": "a09545c5",
   "metadata": {},
   "outputs": [
    {
     "data": {
      "text/plain": [
       "<surprise.prediction_algorithms.matrix_factorization.SVD at 0x1fcb9f060c0>"
      ]
     },
     "execution_count": 7,
     "metadata": {},
     "output_type": "execute_result"
    }
   ],
   "source": [
    "model = SVD(n_factors=50, n_epochs=20, lr_all=0.005, reg_all=0.02, random_state=42)\n",
    "model.fit(trainset)"
   ]
  },
  {
   "cell_type": "code",
   "execution_count": 8,
   "id": "45b27573",
   "metadata": {},
   "outputs": [
    {
     "name": "stdout",
     "output_type": "stream",
     "text": [
      "RMSE: 0.7975\n"
     ]
    },
    {
     "data": {
      "text/plain": [
       "0.7975374101851651"
      ]
     },
     "execution_count": 8,
     "metadata": {},
     "output_type": "execute_result"
    }
   ],
   "source": [
    "test_preds = model.test(testset)\n",
    "accuracy.rmse(test_preds)"
   ]
  },
  {
   "cell_type": "code",
   "execution_count": 9,
   "id": "863e7b99",
   "metadata": {},
   "outputs": [],
   "source": [
    "preds = np.array([pred.est for pred in test_preds]).reshape(-1, 1)\n",
    "actuals = np.array([pred.r_ui for pred in test_preds]).reshape(-1, 1)"
   ]
  },
  {
   "cell_type": "code",
   "execution_count": 10,
   "id": "9d256c09",
   "metadata": {},
   "outputs": [
    {
     "name": "stdout",
     "output_type": "stream",
     "text": [
      "Accuracy (Within ±1 Stars): 81.29%\n",
      "Accuracy (Within ±0.5 Stars): 50.96%\n"
     ]
    }
   ],
   "source": [
    "# Define tolerance (e.g., predictions within ±1 stars are \"correct\")\n",
    "tolerance = 1\n",
    "correct = np.abs(preds - actuals) <= tolerance\n",
    "test_accuracy = np.mean(correct) * 100\n",
    "\n",
    "# Define stricter tolerance (e.g., predictions within ±0.5 stars are \"correct\")\n",
    "stricter_tolerance = 0.5\n",
    "s_correct = np.abs(preds - actuals) <= stricter_tolerance\n",
    "s_test_accuracy = np.mean(s_correct) * 100\n",
    "\n",
    "print(f\"Accuracy (Within ±{tolerance} Stars): {test_accuracy:.2f}%\")\n",
    "print(f\"Accuracy (Within ±{stricter_tolerance} Stars): {s_test_accuracy:.2f}%\")"
   ]
  },
  {
   "cell_type": "code",
   "execution_count": null,
   "id": "458ad150",
   "metadata": {},
   "outputs": [
    {
     "name": "stdout",
     "output_type": "stream",
     "text": [
      "Model saved successfully!\n"
     ]
    }
   ],
   "source": [
    "# Save the model to disk\n",
    "dump(model, '../models/cf_model_2.pkl')  # Or use .joblib extension\n",
    "print(\"Model saved successfully!\")"
   ]
  },
  {
   "cell_type": "markdown",
   "id": "4ab4e897",
   "metadata": {},
   "source": [
    "# Model Training with 32M"
   ]
  },
  {
   "cell_type": "code",
   "execution_count": null,
   "id": "645626c6",
   "metadata": {},
   "outputs": [
    {
     "data": {
      "text/html": [
       "<div>\n",
       "<style scoped>\n",
       "    .dataframe tbody tr th:only-of-type {\n",
       "        vertical-align: middle;\n",
       "    }\n",
       "\n",
       "    .dataframe tbody tr th {\n",
       "        vertical-align: top;\n",
       "    }\n",
       "\n",
       "    .dataframe thead th {\n",
       "        text-align: right;\n",
       "    }\n",
       "</style>\n",
       "<table border=\"1\" class=\"dataframe\">\n",
       "  <thead>\n",
       "    <tr style=\"text-align: right;\">\n",
       "      <th></th>\n",
       "      <th>UserID</th>\n",
       "      <th>MovieID</th>\n",
       "      <th>Rating</th>\n",
       "    </tr>\n",
       "  </thead>\n",
       "  <tbody>\n",
       "    <tr>\n",
       "      <th>0</th>\n",
       "      <td>1</td>\n",
       "      <td>17</td>\n",
       "      <td>4.0</td>\n",
       "    </tr>\n",
       "    <tr>\n",
       "      <th>1</th>\n",
       "      <td>1</td>\n",
       "      <td>25</td>\n",
       "      <td>1.0</td>\n",
       "    </tr>\n",
       "    <tr>\n",
       "      <th>2</th>\n",
       "      <td>1</td>\n",
       "      <td>29</td>\n",
       "      <td>2.0</td>\n",
       "    </tr>\n",
       "    <tr>\n",
       "      <th>3</th>\n",
       "      <td>1</td>\n",
       "      <td>30</td>\n",
       "      <td>5.0</td>\n",
       "    </tr>\n",
       "    <tr>\n",
       "      <th>4</th>\n",
       "      <td>1</td>\n",
       "      <td>32</td>\n",
       "      <td>5.0</td>\n",
       "    </tr>\n",
       "  </tbody>\n",
       "</table>\n",
       "</div>"
      ],
      "text/plain": [
       "   UserID  MovieID  Rating\n",
       "0       1       17     4.0\n",
       "1       1       25     1.0\n",
       "2       1       29     2.0\n",
       "3       1       30     5.0\n",
       "4       1       32     5.0"
      ]
     },
     "metadata": {},
     "output_type": "display_data"
    }
   ],
   "source": [
    "# Dataset Upgrade\n",
    "beegar_data = pd.read_csv(r\"K:\\MachineProject\\Data\\ml-32m\\ratings.csv\")\n",
    "\n",
    "# Drop the Timestamp column\n",
    "beegar_data = beegar_data.drop('timestamp', axis=1)\n",
    "beegar_data.columns = ['UserID', 'MovieID', 'Rating']\n",
    "beegar_data.head()"
   ]
  },
  {
   "cell_type": "code",
   "execution_count": null,
   "id": "8c2b1645",
   "metadata": {},
   "outputs": [
    {
     "name": "stdout",
     "output_type": "stream",
     "text": [
      "        user_id  num_ratings\n",
      "0             1          141\n",
      "1             2           52\n",
      "2             3          147\n",
      "3             4           27\n",
      "4             5           33\n",
      "...         ...          ...\n",
      "200943   200944          298\n",
      "200944   200945          108\n",
      "200945   200946           23\n",
      "200946   200947           61\n",
      "200947   200948          236\n",
      "\n",
      "[200948 rows x 2 columns]\n"
     ]
    }
   ],
   "source": [
    "ratings_per_user = beegar_data.groupby('UserID')['Rating'].count().reset_index()\n",
    "ratings_per_user.columns = ['user_id', 'num_ratings']\n",
    "print(ratings_per_user)"
   ]
  },
  {
   "cell_type": "code",
   "execution_count": null,
   "id": "118825b4",
   "metadata": {},
   "outputs": [
    {
     "name": "stdout",
     "output_type": "stream",
     "text": [
      "count    200948.000000\n",
      "mean        159.246193\n",
      "std         282.025462\n",
      "min          20.000000\n",
      "10%          25.000000\n",
      "50%          73.000000\n",
      "90%         364.000000\n",
      "max       33332.000000\n",
      "Name: num_ratings, dtype: float64\n"
     ]
    }
   ],
   "source": [
    "stats = ratings_per_user['num_ratings'].describe(percentiles=[0.1, 0.5, 0.9])\n",
    "print(stats)"
   ]
  },
  {
   "cell_type": "code",
   "execution_count": null,
   "id": "52ee1c5a",
   "metadata": {},
   "outputs": [
    {
     "data": {
      "text/plain": [
       "Rating\n",
       "4.0    8367654\n",
       "3.0    6054990\n",
       "5.0    4596577\n",
       "3.5    4290105\n",
       "4.5    2974000\n",
       "2.0    2028622\n",
       "2.5    1685386\n",
       "1.0     946675\n",
       "1.5     531063\n",
       "0.5     525132\n",
       "Name: count, dtype: int64"
      ]
     },
     "metadata": {},
     "output_type": "display_data"
    }
   ],
   "source": [
    "beegar_data[\"Rating\"].value_counts()"
   ]
  },
  {
   "cell_type": "code",
   "execution_count": null,
   "id": "2b1a8886",
   "metadata": {},
   "outputs": [
    {
     "data": {
      "text/plain": [
       "count    3.200020e+07\n",
       "mean     2.931861e+04\n",
       "std      5.095816e+04\n",
       "min      1.000000e+00\n",
       "25%      1.233000e+03\n",
       "50%      3.452000e+03\n",
       "75%      4.419900e+04\n",
       "max      2.927570e+05\n",
       "Name: MovieID, dtype: float64"
      ]
     },
     "metadata": {},
     "output_type": "display_data"
    }
   ],
   "source": [
    "beegar_data[\"MovieID\"].describe()"
   ]
  },
  {
   "cell_type": "code",
   "execution_count": null,
   "id": "82463015",
   "metadata": {},
   "outputs": [
    {
     "data": {
      "text/plain": [
       "count    3.200020e+07\n",
       "mean     1.002785e+05\n",
       "std      5.794905e+04\n",
       "min      1.000000e+00\n",
       "25%      5.005300e+04\n",
       "50%      1.002970e+05\n",
       "75%      1.504510e+05\n",
       "max      2.009480e+05\n",
       "Name: UserID, dtype: float64"
      ]
     },
     "metadata": {},
     "output_type": "display_data"
    }
   ],
   "source": [
    "beegar_data[\"UserID\"].describe()"
   ]
  },
  {
   "cell_type": "code",
   "execution_count": null,
   "id": "9762744f",
   "metadata": {},
   "outputs": [
    {
     "name": "stdout",
     "output_type": "stream",
     "text": [
      "<class 'pandas.core.frame.DataFrame'>\n",
      "RangeIndex: 32000204 entries, 0 to 32000203\n",
      "Data columns (total 3 columns):\n",
      " #   Column   Dtype  \n",
      "---  ------   -----  \n",
      " 0   UserID   int64  \n",
      " 1   MovieID  int64  \n",
      " 2   Rating   float64\n",
      "dtypes: float64(1), int64(2)\n",
      "memory usage: 732.4 MB\n"
     ]
    }
   ],
   "source": [
    "beegar_data.info(memory_usage='deep')"
   ]
  },
  {
   "cell_type": "code",
   "execution_count": null,
   "id": "d5ba24e7",
   "metadata": {},
   "outputs": [
    {
     "name": "stdout",
     "output_type": "stream",
     "text": [
      "<class 'pandas.core.frame.DataFrame'>\n",
      "RangeIndex: 32000204 entries, 0 to 32000203\n",
      "Data columns (total 3 columns):\n",
      " #   Column   Dtype  \n",
      "---  ------   -----  \n",
      " 0   UserID   int32  \n",
      " 1   MovieID  int32  \n",
      " 2   Rating   float16\n",
      "dtypes: float16(1), int32(2)\n",
      "memory usage: 305.2 MB\n"
     ]
    }
   ],
   "source": [
    "beegar_data['UserID'] = beegar_data['UserID'].astype('int32')\n",
    "beegar_data['MovieID'] = beegar_data['MovieID'].astype('int32')\n",
    "beegar_data['Rating'] = beegar_data['Rating'].astype('float16')\n",
    "\n",
    "beegar_data.info(memory_usage='deep')"
   ]
  },
  {
   "cell_type": "code",
   "execution_count": null,
   "id": "d46ee50d",
   "metadata": {},
   "outputs": [],
   "source": [
    "# Stratify by user_id (ensure all users are represented)\n",
    "subsampled_df, _ = sklearn_split(\n",
    "    beegar_data,\n",
    "    test_size=0.5,\n",
    "    stratify=beegar_data['UserID'],  # Preserve user distribution\n",
    "    random_state=42\n",
    ")"
   ]
  },
  {
   "cell_type": "code",
   "execution_count": null,
   "id": "16f50baa",
   "metadata": {},
   "outputs": [],
   "source": [
    "reader = Reader(rating_scale=(beegar_data['Rating'].min(), beegar_data['Rating'].max()))\n",
    "data = Dataset.load_from_df(beegar_data[['UserID', 'MovieID', 'Rating']], reader)"
   ]
  },
  {
   "cell_type": "code",
   "execution_count": null,
   "id": "a93440a8",
   "metadata": {},
   "outputs": [],
   "source": [
    "memory = Memory(location='./cache', verbose=0)"
   ]
  },
  {
   "cell_type": "code",
   "execution_count": null,
   "id": "3c8851ee",
   "metadata": {},
   "outputs": [
    {
     "name": "stdout",
     "output_type": "stream",
     "text": [
      "Best RMSE: 0.8375733996579366\n",
      "Best params: {'n_factors': 50, 'n_epochs': 20, 'lr_all': 0.005, 'reg_all': 0.02}\n"
     ]
    }
   ],
   "source": [
    "param_grid = {\n",
    "    'n_factors': [50, 100],  # Test latent dimensions\n",
    "    'n_epochs': [20, 30],\n",
    "    'lr_all': [0.005, 0.01],\n",
    "    'reg_all': [0.02, 0.1]\n",
    "}\n",
    "\n",
    "\n",
    "gs = GridSearchCV(\n",
    "    SVD,\n",
    "    param_grid,\n",
    "    measures=['rmse'],\n",
    "    cv=5,\n",
    "    n_jobs=1,\n",
    ")\n",
    "gs.fit(data)\n",
    "\n",
    "# Best RMSE score and params\n",
    "print(f\"Best RMSE: {gs.best_score['rmse']}\")\n",
    "print(f\"Best params: {gs.best_params['rmse']}\")"
   ]
  },
  {
   "cell_type": "code",
   "execution_count": null,
   "id": "9a5fffea",
   "metadata": {},
   "outputs": [],
   "source": [
    "trainset, testset = train_test_split(data, test_size=0.2, random_state=42)"
   ]
  },
  {
   "cell_type": "code",
   "execution_count": null,
   "id": "d71fabf0",
   "metadata": {},
   "outputs": [
    {
     "data": {
      "text/plain": [
       "<surprise.prediction_algorithms.matrix_factorization.SVD at 0x275c6bba900>"
      ]
     },
     "metadata": {},
     "output_type": "display_data"
    }
   ],
   "source": [
    "model = SVD(n_factors=50, n_epochs=20, lr_all=0.005, reg_all=0.02, random_state=42)\n",
    "model.fit(trainset)"
   ]
  },
  {
   "cell_type": "code",
   "execution_count": null,
   "id": "1a8e87ed",
   "metadata": {},
   "outputs": [
    {
     "name": "stdout",
     "output_type": "stream",
     "text": [
      "RMSE: 0.7731\n"
     ]
    },
    {
     "data": {
      "text/plain": [
       "0.7730811014923263"
      ]
     },
     "metadata": {},
     "output_type": "display_data"
    }
   ],
   "source": [
    "test_preds = model.test(testset)\n",
    "accuracy.rmse(test_preds)"
   ]
  },
  {
   "cell_type": "code",
   "execution_count": null,
   "id": "1bce5511",
   "metadata": {},
   "outputs": [],
   "source": [
    "preds = np.array([pred.est for pred in test_preds]).reshape(-1, 1)\n",
    "actuals = np.array([pred.r_ui for pred in test_preds]).reshape(-1, 1)"
   ]
  },
  {
   "cell_type": "code",
   "execution_count": 28,
   "id": "e30e7299",
   "metadata": {},
   "outputs": [
    {
     "name": "stdout",
     "output_type": "stream",
     "text": [
      "Accuracy (Within ±1 Stars): 83.25%\n",
      "Accuracy (Within ±0.5 Stars): 54.31%\n"
     ]
    }
   ],
   "source": [
    "# Define tolerance (e.g., predictions within ±1 stars are \"correct\")\n",
    "tolerance = 1\n",
    "correct = np.abs(preds - actuals) <= tolerance\n",
    "test_accuracy = np.mean(correct) * 100\n",
    "\n",
    "# Define stricter tolerance (e.g., predictions within ±0.5 stars are \"correct\")\n",
    "stricter_tolerance = 0.5\n",
    "s_correct = np.abs(preds - actuals) <= stricter_tolerance\n",
    "s_test_accuracy = np.mean(s_correct) * 100\n",
    "\n",
    "print(f\"Accuracy (Within ±{tolerance} Stars): {test_accuracy:.2f}%\")\n",
    "print(f\"Accuracy (Within ±{stricter_tolerance} Stars): {s_test_accuracy:.2f}%\")"
   ]
  },
  {
   "cell_type": "code",
   "execution_count": null,
   "id": "c3ab41f6",
   "metadata": {},
   "outputs": [
    {
     "name": "stdout",
     "output_type": "stream",
     "text": [
      "Model saved successfully!\n"
     ]
    }
   ],
   "source": [
    "# Save the model to disk\n",
    "dump(model, '../models/cf_model_2.pkl')  # Or use .joblib extension\n",
    "print(\"Model saved successfully!\")"
   ]
  }
 ],
 "metadata": {
  "kernelspec": {
   "display_name": "MachineLab",
   "language": "python",
   "name": "python3"
  },
  "language_info": {
   "codemirror_mode": {
    "name": "ipython",
    "version": 3
   },
   "file_extension": ".py",
   "mimetype": "text/x-python",
   "name": "python",
   "nbconvert_exporter": "python",
   "pygments_lexer": "ipython3",
   "version": "3.12.3"
  }
 },
 "nbformat": 4,
 "nbformat_minor": 5
}
